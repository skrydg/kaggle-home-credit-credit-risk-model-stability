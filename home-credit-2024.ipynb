{
 "cells": [
  {
   "cell_type": "markdown",
   "id": "6d867792",
   "metadata": {
    "_cell_guid": "b1076dfc-b9ad-4769-8c92-a6c4dae69d19",
    "_uuid": "8f2839f25d086af736a60e9eeb907d3b93b6e0e5",
    "papermill": {
     "duration": 0.012407,
     "end_time": "2024-02-26T07:42:57.606172",
     "exception": false,
     "start_time": "2024-02-26T07:42:57.593765",
     "status": "completed"
    },
    "tags": []
   },
   "source": [
    "# Example Notebook\n",
    "\n",
    "Welcome to the example notebook for the Home Credit Kaggle competition. The goal of this competition is to determine how likely a customer is going to default on an issued loan. The main difference between the [first](https://www.kaggle.com/c/home-credit-default-risk) and this competition is that now your submission will be scored with a custom metric that will take into account how well the model performs in future. A decline in performance will be penalized. The goal is to create a model that is stable and performs well in the future.\n",
    "\n",
    "In this notebook you will see how to:\n",
    "* Load the data\n",
    "* Join tables with Polars - a DataFrame library implemented in Rust language, designed to be blazingy fast and memory efficient.  \n",
    "* Create simple aggregation features\n",
    "* Train a LightGBM model\n",
    "* Create a submission table\n",
    "\n",
    "## Load the data"
   ]
  },
  {
   "cell_type": "code",
   "execution_count": 1,
   "id": "a6bef875",
   "metadata": {
    "execution": {
     "iopub.execute_input": "2024-02-26T07:42:57.631174Z",
     "iopub.status.busy": "2024-02-26T07:42:57.630887Z",
     "iopub.status.idle": "2024-02-26T07:43:03.167505Z",
     "shell.execute_reply": "2024-02-26T07:43:03.166563Z"
    },
    "papermill": {
     "duration": 5.551761,
     "end_time": "2024-02-26T07:43:03.169921",
     "exception": false,
     "start_time": "2024-02-26T07:42:57.618160",
     "status": "completed"
    },
    "tags": []
   },
   "outputs": [
    {
     "name": "stderr",
     "output_type": "stream",
     "text": [
      "/opt/conda/lib/python3.10/site-packages/scipy/__init__.py:146: UserWarning: A NumPy version >=1.16.5 and <1.23.0 is required for this version of SciPy (detected version 1.24.3\n",
      "  warnings.warn(f\"A NumPy version >={np_minversion} and <{np_maxversion}\"\n",
      "/opt/conda/lib/python3.10/site-packages/dask/dataframe/_pyarrow_compat.py:23: UserWarning: You are using pyarrow version 11.0.0 which is known to be insecure. See https://www.cve.org/CVERecord?id=CVE-2023-47248 for further details. Please upgrade to pyarrow>=14.0.1 or install pyarrow-hotfix to patch your current version.\n",
      "  warnings.warn(\n"
     ]
    }
   ],
   "source": [
    "import polars as pl\n",
    "import gc\n",
    "import time\n",
    "import numpy as np\n",
    "import pandas as pd\n",
    "import lightgbm as lgb\n",
    "import seaborn as sns\n",
    "import matplotlib.pyplot as plt\n",
    "import copy\n",
    "import lightgbm as lgb\n",
    "\n",
    "from glob import glob\n",
    "from pathlib import Path\n",
    "from sklearn.model_selection import train_test_split\n",
    "from sklearn.metrics import roc_auc_score \n",
    "from sklearn.model_selection import StratifiedGroupKFold\n",
    "from sklearn.base import BaseEstimator, RegressorMixin\n",
    "from catboost import CatBoostClassifier\n",
    "from enum import Enum    "
   ]
  },
  {
   "cell_type": "code",
   "execution_count": 2,
   "id": "cd363ce8",
   "metadata": {
    "execution": {
     "iopub.execute_input": "2024-02-26T07:43:03.196306Z",
     "iopub.status.busy": "2024-02-26T07:43:03.196019Z",
     "iopub.status.idle": "2024-02-26T07:43:06.155818Z",
     "shell.execute_reply": "2024-02-26T07:43:06.154818Z"
    },
    "papermill": {
     "duration": 2.975557,
     "end_time": "2024-02-26T07:43:06.158053",
     "exception": false,
     "start_time": "2024-02-26T07:43:03.182496",
     "status": "completed"
    },
    "tags": []
   },
   "outputs": [
    {
     "name": "stdout",
     "output_type": "stream",
     "text": [
      "Collecting https://github.com/skrydg/kaggle-home-credit-credit-risk-model-stability.git\r\n",
      "  Downloading https://github.com/skrydg/kaggle-home-credit-credit-risk-model-stability.git\r\n",
      "\u001b[2K     \u001b[32m-\u001b[0m \u001b[32m239.2 kB\u001b[0m \u001b[31m7.6 MB/s\u001b[0m \u001b[33m0:00:00\u001b[0m\r\n",
      "\u001b[?25h\u001b[31m  ERROR: Cannot unpack file /tmp/pip-unpack-66dnlily/kaggle-home-credit-credit-risk-model-stability.git (downloaded from /tmp/pip-req-build-j_i9t10m, content-type: text/html; charset=utf-8); cannot detect archive format\u001b[0m\u001b[31m\r\n",
      "\u001b[0m\u001b[31mERROR: Cannot determine archive format of /tmp/pip-req-build-j_i9t10m\u001b[0m\u001b[31m\r\n",
      "\u001b[0m"
     ]
    }
   ],
   "source": [
    "!pip install https://github.com/skrydg/kaggle-home-credit-credit-risk-model-stability.git"
   ]
  },
  {
   "cell_type": "code",
   "execution_count": null,
   "id": "6d90d26e",
   "metadata": {
    "papermill": {
     "duration": 0.013356,
     "end_time": "2024-02-26T07:43:06.184317",
     "exception": false,
     "start_time": "2024-02-26T07:43:06.170961",
     "status": "completed"
    },
    "tags": []
   },
   "outputs": [],
   "source": []
  },
  {
   "cell_type": "code",
   "execution_count": 3,
   "id": "a28f544d",
   "metadata": {
    "execution": {
     "iopub.execute_input": "2024-02-26T07:43:06.210892Z",
     "iopub.status.busy": "2024-02-26T07:43:06.210532Z",
     "iopub.status.idle": "2024-02-26T07:43:06.215417Z",
     "shell.execute_reply": "2024-02-26T07:43:06.214538Z"
    },
    "papermill": {
     "duration": 0.020616,
     "end_time": "2024-02-26T07:43:06.217446",
     "exception": false,
     "start_time": "2024-02-26T07:43:06.196830",
     "status": "completed"
    },
    "tags": []
   },
   "outputs": [],
   "source": [
    "class Mode(Enum):\n",
    "    Predict = 0\n",
    "    Train = 1\n",
    "\n",
    "MODE = Mode.Predict\n"
   ]
  },
  {
   "cell_type": "code",
   "execution_count": 4,
   "id": "7200ddec",
   "metadata": {
    "execution": {
     "iopub.execute_input": "2024-02-26T07:43:06.243874Z",
     "iopub.status.busy": "2024-02-26T07:43:06.243609Z",
     "iopub.status.idle": "2024-02-26T07:43:06.267024Z",
     "shell.execute_reply": "2024-02-26T07:43:06.266300Z"
    },
    "papermill": {
     "duration": 0.038913,
     "end_time": "2024-02-26T07:43:06.268767",
     "exception": false,
     "start_time": "2024-02-26T07:43:06.229854",
     "status": "completed"
    },
    "tags": []
   },
   "outputs": [],
   "source": [
    "class Dataset:\n",
    "    def __init__(self, base, depth_0, depth_1, depth_2):\n",
    "        self.base = base\n",
    "        self.depth_0 = depth_0\n",
    "        self.depth_1 = depth_1\n",
    "        self.depth_2 = depth_2\n",
    "\n",
    "    def filter(self, filter_lambda):\n",
    "        self.base = filter_lambda(self.base)\n",
    "\n",
    "        for i in range(len(self.depth_0)):\n",
    "            self.depth_0[i] = filter_lambda(self.depth_0[i])\n",
    "            \n",
    "        for i in range(len(self.depth_1)):\n",
    "            self.depth_1[i] = filter_lambda(self.depth_1[i])\n",
    "        \n",
    "        for i in range(len(self.depth_2)):\n",
    "            self.depth_2[i] = filter_lambda(self.depth_2[i])\n",
    "            \n",
    "        return self\n",
    "\n",
    "            \n",
    "class DataLoader:\n",
    "    DATA_PATH = Path(\"/kaggle/input/home-credit-credit-risk-model-stability\")\n",
    "    TRAIN_DIR = DATA_PATH / \"parquet_files/train/\"\n",
    "    TEST_DIR = DATA_PATH / \"parquet_files/test/\"\n",
    "    TRAIN_PERSENT_SIZE = 0.5\n",
    "    \n",
    "    def __init__(self, mode):\n",
    "        self.mode = mode\n",
    "        \n",
    "    def load_train_dataset(self) -> Dataset:\n",
    "        base, depth_0, depth_1, depth_2 = self._get_train_data()\n",
    "                    \n",
    "        if self.mode == Mode.Train:\n",
    "            case_id_set = self._get_train_case_id_set()\n",
    "            return Dataset(base, depth_0, depth_1, depth_2).filter(lambda df: df.filter(df[\"case_id\"].is_in(case_id_set)))\n",
    "        else:\n",
    "            return Dataset(base, depth_0, depth_1, depth_2)\n",
    "        \n",
    "    def load_test_dataset(self) -> Dataset:\n",
    "        if self.mode == Mode.Train:\n",
    "            base, depth_0, depth_1, depth_2 = self._get_train_data()\n",
    "            case_id_set = self._get_test_case_id_set()\n",
    "            return Dataset(base, depth_0, depth_1, depth_2).filter(lambda df: df.filter(df[\"case_id\"].is_in(case_id_set)))\n",
    "        else:\n",
    "            base, depth_0, depth_1, depth_2 = self._get_test_data()\n",
    "            return Dataset(base, depth_0, depth_1, depth_2)\n",
    "        \n",
    "    def _get_train_data(self):\n",
    "        base = self._read_file(self.TRAIN_DIR / \"train_base.parquet\")\n",
    "        depth_0 = [\n",
    "            self._read_files(self.TRAIN_DIR / \"train_static_cb_*.parquet\"),\n",
    "            self._read_files(self.TRAIN_DIR / \"train_static_0_*.parquet\")\n",
    "        ]            \n",
    "        depth_1 = [\n",
    "            self._read_files(self.TRAIN_DIR / \"train_applprev_1_*.parquet\"),\n",
    "            self._read_file(self.TRAIN_DIR / \"train_tax_registry_a_1.parquet\"),\n",
    "            self._read_file(self.TRAIN_DIR / \"train_tax_registry_b_1.parquet\"),\n",
    "            self._read_file(self.TRAIN_DIR / \"train_tax_registry_c_1.parquet\"),\n",
    "            self._read_file(self.TRAIN_DIR / \"train_credit_bureau_b_1.parquet\"),\n",
    "            self._read_file(self.TRAIN_DIR / \"train_other_1.parquet\"),\n",
    "            self._read_file(self.TRAIN_DIR / \"train_person_1.parquet\"),\n",
    "            self._read_file(self.TRAIN_DIR / \"train_deposit_1.parquet\"),\n",
    "            self._read_file(self.TRAIN_DIR / \"train_debitcard_1.parquet\"),\n",
    "        ]\n",
    "        depth_2 = [\n",
    "            self._read_file(self.TRAIN_DIR / \"train_credit_bureau_b_2.parquet\"),\n",
    "        ]\n",
    "        return base, depth_0, depth_1, depth_2\n",
    "    \n",
    "    def _get_test_data(self):\n",
    "        base = self._read_file(self.TEST_DIR / \"test_base.parquet\")\n",
    "        depth_0 = [\n",
    "            self._read_files(self.TEST_DIR / \"test_static_cb_*.parquet\"),\n",
    "            self._read_files(self.TEST_DIR / \"test_static_0_*.parquet\")\n",
    "        ]\n",
    "        depth_1 = [\n",
    "            self._read_files(self.TEST_DIR / \"test_applprev_1_*.parquet\"),\n",
    "            self._read_files(self.TEST_DIR / \"test_tax_registry_a_1.parquet\"),\n",
    "            self._read_file(self.TEST_DIR / \"test_tax_registry_b_1.parquet\"),\n",
    "            self._read_file(self.TEST_DIR / \"test_tax_registry_c_1.parquet\"),\n",
    "            self._read_file(self.TEST_DIR / \"test_credit_bureau_b_1.parquet\"),\n",
    "            self._read_file(self.TEST_DIR / \"test_other_1.parquet\"),\n",
    "            self._read_file(self.TEST_DIR / \"test_person_1.parquet\"),\n",
    "            self._read_file(self.TEST_DIR / \"test_deposit_1.parquet\"),\n",
    "            self._read_file(self.TEST_DIR / \"test_debitcard_1.parquet\")\n",
    "        ]\n",
    "        depth_2 = [\n",
    "            self._read_file(self.TEST_DIR / \"test_credit_bureau_b_2.parquet\"),\n",
    "        ]        \n",
    "        return base, depth_0, depth_1, depth_2\n",
    "    \n",
    "    def _get_train_case_id_set(self):\n",
    "        case_id_info = pl.read_parquet(self.TRAIN_DIR / \"train_base.parquet\", columns=[\"case_id\", \"WEEK_NUM\"])\n",
    "        \n",
    "        min_week_id = case_id_info[\"WEEK_NUM\"].min()\n",
    "        max_week_id = case_id_info[\"WEEK_NUM\"].max()\n",
    "        week_id_threashold = min_week_id + int((max_week_id - min_week_id) * self.TRAIN_PERSENT_SIZE)\n",
    "        case_id_info = case_id_info.filter(case_id_info[\"WEEK_NUM\"] <= week_id_threashold)\n",
    "        return case_id_info[\"case_id\"]\n",
    "    \n",
    "    def _get_test_case_id_set(self):\n",
    "        case_id_info = pl.read_parquet(self.TRAIN_DIR / \"train_base.parquet\", columns=[\"case_id\", \"WEEK_NUM\"])\n",
    "        \n",
    "        min_week_id = case_id_info[\"WEEK_NUM\"].min()\n",
    "        max_week_id = case_id_info[\"WEEK_NUM\"].max()\n",
    "        week_id_threashold = min_week_id + int((max_week_id - min_week_id) * self.TRAIN_PERSENT_SIZE)\n",
    "        case_id_info = case_id_info.filter(case_id_info[\"WEEK_NUM\"] > week_id_threashold)\n",
    "        return case_id_info[\"case_id\"]\n",
    "    \n",
    "    def _read_file(self, path):\n",
    "        return pl.read_parquet(path)\n",
    "    \n",
    "\n",
    "    def _read_files(self, regex_path):\n",
    "        chunks = []\n",
    "        for path in glob(str(regex_path)):\n",
    "            chunks.append(self._read_file(path))\n",
    "\n",
    "        return pl.concat(chunks, how=\"vertical_relaxed\")"
   ]
  },
  {
   "cell_type": "code",
   "execution_count": 5,
   "id": "e8cd56c2",
   "metadata": {
    "execution": {
     "iopub.execute_input": "2024-02-26T07:43:06.294718Z",
     "iopub.status.busy": "2024-02-26T07:43:06.294442Z",
     "iopub.status.idle": "2024-02-26T07:43:06.308955Z",
     "shell.execute_reply": "2024-02-26T07:43:06.308250Z"
    },
    "papermill": {
     "duration": 0.02982,
     "end_time": "2024-02-26T07:43:06.310858",
     "exception": false,
     "start_time": "2024-02-26T07:43:06.281038",
     "status": "completed"
    },
    "tags": []
   },
   "outputs": [],
   "source": [
    "class Aggregator:\n",
    "    num_aggregators = [pl.max, pl.min, pl.first, pl.last, pl.mean]\n",
    "    str_aggregators = [pl.max, pl.min, pl.first, pl.last] # n_unique\n",
    "    group_aggregators = [pl.max, pl.min, pl.first, pl.last]\n",
    "    \n",
    "    @staticmethod\n",
    "    def num_expr(df):\n",
    "        cols = [col for col in df.columns if col[-1] in (\"P\", \"A\")]\n",
    "        expr_all = []\n",
    "        for method in Aggregator.num_aggregators:\n",
    "            expr = [method(col).alias(f\"{method.__name__}_{col}\") for col in cols]\n",
    "            expr_all += expr\n",
    "\n",
    "        return expr_all\n",
    "\n",
    "    @staticmethod\n",
    "    def date_expr(df):\n",
    "        cols = [col for col in df.columns if col[-1] in (\"D\",)]\n",
    "        expr_all = []\n",
    "        for method in Aggregator.num_aggregators:\n",
    "            expr = [method(col).alias(f\"{method.__name__}_{col}\") for col in cols]  \n",
    "            expr_all += expr\n",
    "\n",
    "        return expr_all\n",
    "\n",
    "    @staticmethod\n",
    "    def str_expr(df):\n",
    "        cols = [col for col in df.columns if col[-1] in (\"M\",)]\n",
    "        \n",
    "        expr_all = []\n",
    "        for method in Aggregator.str_aggregators:\n",
    "            expr = [method(col).alias(f\"{method.__name__}_{col}\") for col in cols]  \n",
    "            expr_all += expr\n",
    "            \n",
    "        expr_mode = [\n",
    "            pl.col(col)\n",
    "            .drop_nulls()\n",
    "            .mode()\n",
    "            .first()\n",
    "            .alias(f\"mode_{col}\")\n",
    "            for col in cols\n",
    "        ]\n",
    "\n",
    "        return expr_all + expr_mode\n",
    "\n",
    "    @staticmethod\n",
    "    def other_expr(df):\n",
    "        cols = [col for col in df.columns if col[-1] in (\"T\", \"L\")]\n",
    "        \n",
    "        expr_all = []\n",
    "        for method in Aggregator.str_aggregators:\n",
    "            expr = [method(col).alias(f\"{method.__name__}_{col}\") for col in cols]  \n",
    "            expr_all += expr\n",
    "\n",
    "        return expr_all\n",
    "    \n",
    "    @staticmethod\n",
    "    def count_expr(df):\n",
    "        cols = [col for col in df.columns if \"num_group\" in col]\n",
    "\n",
    "        expr_all = []\n",
    "        for method in Aggregator.group_aggregators:\n",
    "            expr = [method(col).alias(f\"{method.__name__}_{col}\") for col in cols]  \n",
    "            expr_all += expr\n",
    "            \n",
    "#         if len(cols) > 0:\n",
    "#             method = pl.count\n",
    "#             expr = [method(col).alias(f\"{method.__name__}_{col}\") for col in [cols[0]]]\n",
    "#             expr_all += expr\n",
    "\n",
    "        return expr_all\n",
    "\n",
    "    @staticmethod\n",
    "    def get_exprs(df):\n",
    "        exprs = Aggregator.num_expr(df) + \\\n",
    "                Aggregator.date_expr(df) + \\\n",
    "                Aggregator.str_expr(df) + \\\n",
    "                Aggregator.other_expr(df) + \\\n",
    "                Aggregator.count_expr(df)\n",
    "\n",
    "        return exprs"
   ]
  },
  {
   "cell_type": "code",
   "execution_count": 6,
   "id": "c6136cba",
   "metadata": {
    "execution": {
     "iopub.execute_input": "2024-02-26T07:43:06.336846Z",
     "iopub.status.busy": "2024-02-26T07:43:06.336583Z",
     "iopub.status.idle": "2024-02-26T07:43:06.386584Z",
     "shell.execute_reply": "2024-02-26T07:43:06.385951Z"
    },
    "papermill": {
     "duration": 0.065203,
     "end_time": "2024-02-26T07:43:06.388375",
     "exception": false,
     "start_time": "2024-02-26T07:43:06.323172",
     "status": "completed"
    },
    "tags": []
   },
   "outputs": [],
   "source": [
    "class SetTypesStep:\n",
    "    def __init__(self):\n",
    "        self.column_to_type = {}\n",
    "        \n",
    "    def process_train_dataset(self, train_dataset):\n",
    "        for df in [train_dataset.base] + train_dataset.depth_0 + train_dataset.depth_1 + train_dataset.depth_2:\n",
    "            for column in df.columns:\n",
    "                if column in (\"WEEK_NUM\", \"case_id\", \"MONTH\", \"num_group1\", \"num_group2\", \"target\"):\n",
    "                    self.column_to_type[column] = pl.Int64\n",
    "                elif (column[-1] == \"D\") or (column == \"date_decision\"):\n",
    "                    self.column_to_type[column] = pl.Date\n",
    "                elif (column[-1] in ['M']) or (df[column].dtype == pl.String):\n",
    "                    self.column_to_type[column] = pl.String\n",
    "                else:\n",
    "                    self.column_to_type[column] = pl.Float32\n",
    "        return self.process(train_dataset)\n",
    "    \n",
    "    def process_test_dataset(self, test_dataset):\n",
    "        return self.process(test_dataset)\n",
    "    \n",
    "    def process(self, dataset):\n",
    "        assert(type(dataset) is Dataset)\n",
    "        dataset.base = self.process_tables([dataset.base])[0]\n",
    "        dataset.depth_0 = self.process_tables(dataset.depth_0)\n",
    "        dataset.depth_1 = self.process_tables(dataset.depth_1)\n",
    "        dataset.depth_2 = self.process_tables(dataset.depth_2)\n",
    "        return dataset\n",
    "    \n",
    "    def process_tables(self, dfs):\n",
    "        for i in range(len(dfs)):\n",
    "            for column in dfs[i].columns:\n",
    "                assert column in self.column_to_type, \"Unknown column: {}\".format(column)\n",
    "                dfs[i] = dfs[i].with_columns(dfs[i][column].cast(self.column_to_type[column]))\n",
    "        return dfs\n",
    "    \n",
    "class AggregateDepthTableStep:        \n",
    "    def process_train_dataset(self, train_dataset):\n",
    "        return self.process(train_dataset)\n",
    "        \n",
    "    def process_test_dataset(self, test_dataset):\n",
    "        return self.process(test_dataset)\n",
    "    \n",
    "    def process(self, dataset):\n",
    "        assert(type(dataset) is Dataset)\n",
    "        for i in range(len(dataset.depth_1)):\n",
    "            dataset.depth_1[i] = dataset.depth_1[i].group_by(\"case_id\").agg(Aggregator.get_exprs(dataset.depth_1[i]))\n",
    "        for i in range(len(dataset.depth_2)):\n",
    "            dataset.depth_2[i] = dataset.depth_2[i].group_by(\"case_id\").agg(Aggregator.get_exprs(dataset.depth_2[i]))\n",
    "        return dataset\n",
    "    \n",
    "class JoinTablesStep:        \n",
    "    def process_train_dataset(self, train_dataset):\n",
    "        return self.process(train_dataset)\n",
    "        \n",
    "    def process_test_dataset(self, test_dataset):\n",
    "        return self.process(test_dataset)\n",
    "    \n",
    "    def process(self, dataset):\n",
    "        result = dataset.base\n",
    "        for i, df in enumerate(dataset.depth_0 + dataset.depth_1 + dataset.depth_2):\n",
    "            result = result.join(df, how=\"left\", on=\"case_id\", suffix=f\"_{i}\")\n",
    "        return result\n",
    "    \n",
    "class ProcessDatesStep:        \n",
    "    def process_train_dataset(self, df):\n",
    "        return self.process(df)\n",
    "        \n",
    "    def process_test_dataset(self, df):\n",
    "        return self.process(df)\n",
    "    \n",
    "    def process(self, df):\n",
    "        for column in df.columns:\n",
    "            if (df[column].dtype == pl.Date) and (column != \"date_decision\"):\n",
    "                df = df.with_columns(pl.col(column) - pl.col(\"date_decision\"))\n",
    "                df = df.with_columns(pl.col(column).dt.total_days())\n",
    "        return df\n",
    "    \n",
    "class ProcessCategoricalStep:    \n",
    "    def __init__(self):\n",
    "        self.column_to_type = {}\n",
    "        \n",
    "    def process_train_dataset(self, df):\n",
    "        for column in df.columns:\n",
    "            if df[column].dtype == pl.String:\n",
    "                unique_values = list(df[column].filter(~df[column].is_null()).unique())\n",
    "                self.column_to_type[column] = pl.Enum(unique_values + [\"__UNKNOWN__\"])\n",
    "            \n",
    "        return self.process(df)\n",
    "        \n",
    "    def process_test_dataset(self, df):\n",
    "        return self.process(df)\n",
    "    \n",
    "    def process(self, df):\n",
    "        for column in df.columns:\n",
    "            if df[column].dtype == pl.String:\n",
    "                column_type = self.column_to_type[column]\n",
    "                df = df.with_columns(df[column].set(~df[column].is_in(column_type.categories), \"__UNKNOWN__\"))\n",
    "                df = df.with_columns(df[column].fill_null(\"__UNKNOWN__\").cast(column_type))\n",
    "        return df\n",
    "\n",
    "class DropColumnsStep:    \n",
    "    def __init__(self):\n",
    "        self.columns = []\n",
    "        \n",
    "    def process_train_dataset(self, df):\n",
    "        for column in df.columns:\n",
    "            isnull = df[column].is_null().mean()\n",
    "            if isnull > 0.95:\n",
    "                self.columns.append(column)\n",
    "\n",
    "        for column in df.columns:\n",
    "            if df[column].dtype == pl.Enum:\n",
    "                freq = df[column].n_unique()\n",
    "\n",
    "                if (freq == 1) or (freq > 200):\n",
    "                    self.columns.append(column)\n",
    "        self.columns.append(\"date_decision\")\n",
    "        self.columns.append(\"MONTH\")\n",
    "                \n",
    "        print(\"Columns to drop: {}\".format(self.columns))            \n",
    "        return self.process(df)\n",
    "        \n",
    "    def process_test_dataset(self, df):\n",
    "        return self.process(df)\n",
    "    \n",
    "    def process(self, df):\n",
    "        for column in self.columns:\n",
    "            df = df.drop(column)\n",
    "        return df\n",
    "    \n",
    "    \n",
    "class DropDatesColumnsStep:            \n",
    "    def process_train_dataset(self, df):  \n",
    "        return self.process(df)\n",
    "        \n",
    "    def process_test_dataset(self, df):\n",
    "        return self.process(df)\n",
    "    \n",
    "    def process(self, df):\n",
    "        for column in df.columns:\n",
    "            if (column[-1] == 'D'):\n",
    "                df = df.drop(column)\n",
    "        return df\n",
    "    \n",
    "class ReduceMemoryUsageStep:     \n",
    "    def process_train_dataset(self, df):  \n",
    "        return self.process(df)\n",
    "        \n",
    "    def process_test_dataset(self, df):\n",
    "        return self.process(df)\n",
    "    \n",
    "    def process(self, df):\n",
    "        column_to_type = {}\n",
    "        for column in df.columns:\n",
    "            column_type = df[column].dtype\n",
    "\n",
    "            if column_type != pl.Enum:\n",
    "                c_min = df[column].min()\n",
    "                c_max = df[column].max()\n",
    "                if (c_min is None) or (c_max is None):\n",
    "                    column_to_type[column] = column_type\n",
    "                    continue\n",
    "                    \n",
    "                if str(column_type)[:3] == 'Int':\n",
    "                    if c_min > np.iinfo(np.int8).min and c_max < np.iinfo(np.int8).max:\n",
    "                        column_to_type[column] = pl.Int8\n",
    "                    elif c_min > np.iinfo(np.int16).min and c_max < np.iinfo(np.int16).max:\n",
    "                        column_to_type[column] = pl.Int16\n",
    "                    elif c_min > np.iinfo(np.int32).min and c_max < np.iinfo(np.int32).max:\n",
    "                        column_to_type[column] = pl.Int32\n",
    "                    elif c_min > np.iinfo(np.int64).min and c_max < np.iinfo(np.int64).max:\n",
    "                        column_to_type[column] = pl.Int64\n",
    "                else:\n",
    "                    if c_min > np.finfo(np.float32).min and c_max < np.finfo(np.float32).max:\n",
    "                        column_to_type[column] = pl.Float32\n",
    "                    else:\n",
    "                        column_to_type[column] = pl.Float64\n",
    "            else:\n",
    "                column_to_type[column] = column_type\n",
    "        for column in df.columns:\n",
    "            column_type = column_to_type[column]\n",
    "            df = df.with_columns(df[column].cast(column_type))\n",
    "        return df\n",
    "    \n",
    "class DropNonImportantFeaturesStep:\n",
    "    def __init__(self):\n",
    "        self.important_columns = ['dateofbirth_337D', 'days120_123L', 'days180_256L', 'days30_165L', 'days360_512L', 'days90_310L', 'description_5085714M', 'education_1103M', 'numberofqueries_373L', 'pmtaverage_3A', 'pmtaverage_4527227A', 'pmtscount_423L', 'pmtssum_45A', 'requesttype_4525192L', 'responsedate_4527233D', 'responsedate_4917613D', 'riskassesment_302T', 'thirdquarter_1082L', 'amtinstpaidbefduel24m_4187115A', 'annuity_780A', 'applicationcnt_361L', 'applicationscnt_867L', 'avgdpdtolclosure24_3658938P', 'avgmaxdpdlast9m_3716943P', 'bankacctype_710L', 'cardtype_51L', 'clientscnt12m_3712952L', 'clientscnt6m_3712949L', 'cntpmts24_3658933L', 'credtype_322L', 'currdebt_22A', 'datelastinstal40dpd_247D', 'deferredmnthsnum_166L', 'disbursedcredamount_1113A', 'disbursementtype_67L', 'eir_270L', 'homephncnt_628L', 'inittransactioncode_186L', 'interestrate_311L', 'isbidproduct_1095L', 'isdebitcard_729L', 'lastdelinqdate_224D', 'lastrejectreason_759M', 'lastrejectreasonclient_4145040M', 'lastst_736L', 'mastercontrelectronic_519L', 'mastercontrexist_109L', 'maxdbddpdtollast12m_3658940P', 'maxdebt4_972A', 'maxdpdinstldate_3546855D', 'maxdpdlast24m_143P', 'maxdpdlast3m_392P', 'maxdpdlast6m_474P', 'maxdpdlast9m_1059P', 'maxdpdtolerance_374P', 'mobilephncnt_593L', 'numincomingpmts_3546848L', 'numinstlallpaidearly3d_817L', 'numinstlsallpaid_934L', 'numinstlswithdpd10_728L', 'numinstpaidearly3d_3546850L', 'numinsttopaygr_769L', 'numinstunpaidmax_3546851L', 'numinstunpaidmaxest_4493212L', 'pctinstlsallpaidlate1d_3546856L', 'pmtnum_254L', 'price_1097A', 'totaldebt_9A', 'twobodfilling_608L', 'validfrom_1069D', 'max_currdebt_94A', 'max_maxdpdtolerance_577P', 'max_outstandingdebt_522A', 'first_actualdpd_943P', 'mean_credacc_actualbalance_314A', 'mean_currdebt_94A', 'mean_maxdpdtolerance_577P', 'mean_outstandingdebt_522A', 'max_employedfrom_700D', 'max_postype_4733339M', 'max_rejectreason_755M', 'max_rejectreasonclient_4145042M', 'min_education_1138M', 'first_education_1138M', 'last_education_1138M', 'last_rejectreason_755M', 'last_rejectreasonclient_4145042M', 'mode_education_1138M', 'mode_rejectreasonclient_4145042M', 'max_familystate_726L', 'max_pmtnum_8L', 'max_status_219L', 'max_tenor_203L', 'min_credtype_587L', 'min_familystate_726L', 'min_inittransactioncode_279L', 'min_isbidproduct_390L', 'first_familystate_726L', 'first_status_219L', 'last_credtype_587L', 'last_familystate_726L', 'min_num_group1', 'first_num_group1', 'max_amount_4527230A', 'mean_amount_4527230A', 'max_num_group1_3', 'min_num_group1_3', 'min_num_group1_4', 'min_num_group1_5', 'max_classificationofcontr_1114M', 'max_contractst_516M', 'max_contracttype_653M', 'max_periodicityofpmts_997M', 'max_pmtmethod_731M', 'max_purposeofcred_722M', 'max_subjectrole_326M', 'max_subjectrole_43M', 'min_classificationofcontr_1114M', 'min_contractst_516M', 'min_contracttype_653M', 'min_periodicityofpmts_997M', 'min_pmtmethod_731M', 'min_purposeofcred_722M', 'min_subjectrole_326M', 'min_subjectrole_43M', 'first_classificationofcontr_1114M', 'first_contractst_516M', 'first_contracttype_653M', 'first_periodicityofpmts_997M', 'first_purposeofcred_722M', 'first_subjectrole_326M', 'first_subjectrole_43M', 'last_classificationofcontr_1114M', 'last_contracttype_653M', 'last_periodicityofpmts_997M', 'last_pmtmethod_731M', 'last_purposeofcred_722M', 'last_subjectrole_326M', 'last_subjectrole_43M', 'mode_classificationofcontr_1114M', 'mode_purposeofcred_722M', 'mode_subjectrole_326M', 'mode_subjectrole_43M', 'max_birth_259D', 'min_birth_259D', 'first_birth_259D', 'last_birth_259D', 'max_education_927M', 'max_empladdr_district_926M', 'max_empladdr_zipcode_114M', 'max_language1_981M', 'min_education_927M', 'min_language1_981M', 'first_education_927M', 'first_language1_981M', 'last_education_927M', 'last_empladdr_district_926M', 'last_empladdr_zipcode_114M', 'last_language1_981M', 'max_contaddr_matchlist_1032L', 'max_empl_employedtotal_800L', 'max_familystate_447L', 'max_housingtype_772L', 'max_incometype_1044T', 'max_relationshiptoclient_415T', 'max_relationshiptoclient_642T', 'max_sex_738L', 'min_contaddr_matchlist_1032L', 'min_empl_employedtotal_800L', 'min_familystate_447L', 'min_housetype_905L', 'min_housingtype_772L', 'min_incometype_1044T', 'min_maritalst_703L', 'min_personindex_1023L', 'min_persontype_1072L', 'min_persontype_792L', 'min_relationshiptoclient_415T', 'min_relationshiptoclient_642T', 'min_role_993L', 'min_sex_738L', 'first_contaddr_matchlist_1032L', 'first_contaddr_smempladdr_334L', 'first_empl_employedtotal_800L', 'first_familystate_447L', 'first_housetype_905L', 'first_incometype_1044T', 'first_maritalst_703L', 'first_personindex_1023L', 'first_persontype_1072L', 'first_persontype_792L', 'first_role_993L', 'first_safeguarantyflag_411L', 'first_sex_738L', 'last_contaddr_matchlist_1032L', 'last_empl_industry_691L', 'last_familystate_447L', 'last_housetype_905L', 'last_housingtype_772L', 'last_incometype_1044T', 'last_maritalst_703L', 'last_sex_738L', 'min_num_group1_8', 'first_num_group1_8', 'min_num_group1_9', 'min_num_group1_10']\n",
    "        \n",
    "    def process_train_dataset(self, df):  \n",
    "        return self.process(df)\n",
    "        \n",
    "    def process_test_dataset(self, df):\n",
    "        return self.process(df)\n",
    "    \n",
    "    def process(self, df):\n",
    "        for column in df.columns:\n",
    "            if (column in [\"target\", \"WEEK_NUM\", \"case_id\"]):\n",
    "                continue\n",
    "            if (column not in self.important_columns):\n",
    "                df = df.drop(column)\n",
    "        return df\n",
    "    \n",
    "    \n",
    "class Preprocessor:\n",
    "    def __init__(self):\n",
    "        self.steps = {\n",
    "            \"set_types\": SetTypesStep(),\n",
    "            \"aggregate_depth_table\": AggregateDepthTableStep(),\n",
    "            \"join_table\": JoinTablesStep(),\n",
    "            \"process_date\": ProcessDatesStep(),\n",
    "            \"process_categorical\": ProcessCategoricalStep(),\n",
    "            \"drop_columns\": DropColumnsStep(),\n",
    "            \"reduce_memory_usage\": ReduceMemoryUsageStep(),\n",
    "            \"drop_non_important_features\": DropNonImportantFeaturesStep()\n",
    "            #\"drop_dates_columns\": DropDatesColumnsStep()\n",
    "        }\n",
    "    \n",
    "    def process_train_dataset(self, train_dataset):\n",
    "        for name, step in self.steps.items():\n",
    "            start = time.time()\n",
    "            train_dataset = step.process_train_dataset(train_dataset)\n",
    "            finish = time.time()\n",
    "            print(\"Step: {}, execution_time: {}\".format(name, finish - start), flush=True)\n",
    "        return train_dataset\n",
    "    \n",
    "    def process_test_dataset(self, test_dataset):\n",
    "        for name, step in self.steps.items():\n",
    "            start = time.time()\n",
    "            test_dataset = step.process_test_dataset(test_dataset)\n",
    "            finish = time.time()\n",
    "            print(\"Step: {}, execution_time: {}\".format(name, finish - start), flush=True)\n",
    "        return test_dataset"
   ]
  },
  {
   "cell_type": "code",
   "execution_count": 7,
   "id": "beef1aab",
   "metadata": {
    "execution": {
     "iopub.execute_input": "2024-02-26T07:43:06.414176Z",
     "iopub.status.busy": "2024-02-26T07:43:06.413920Z",
     "iopub.status.idle": "2024-02-26T07:43:06.417648Z",
     "shell.execute_reply": "2024-02-26T07:43:06.416899Z"
    },
    "papermill": {
     "duration": 0.018742,
     "end_time": "2024-02-26T07:43:06.419422",
     "exception": false,
     "start_time": "2024-02-26T07:43:06.400680",
     "status": "completed"
    },
    "tags": []
   },
   "outputs": [],
   "source": [
    "data_loader = DataLoader(MODE)\n",
    "preprocessor = Preprocessor()"
   ]
  },
  {
   "cell_type": "code",
   "execution_count": 8,
   "id": "abb96300",
   "metadata": {
    "execution": {
     "iopub.execute_input": "2024-02-26T07:43:06.446109Z",
     "iopub.status.busy": "2024-02-26T07:43:06.445859Z",
     "iopub.status.idle": "2024-02-26T07:43:15.662222Z",
     "shell.execute_reply": "2024-02-26T07:43:15.661344Z"
    },
    "papermill": {
     "duration": 9.232724,
     "end_time": "2024-02-26T07:43:15.664454",
     "exception": false,
     "start_time": "2024-02-26T07:43:06.431730",
     "status": "completed"
    },
    "tags": []
   },
   "outputs": [],
   "source": [
    "train_dataset = data_loader.load_train_dataset()"
   ]
  },
  {
   "cell_type": "code",
   "execution_count": 9,
   "id": "720cd1e8",
   "metadata": {
    "execution": {
     "iopub.execute_input": "2024-02-26T07:43:15.729843Z",
     "iopub.status.busy": "2024-02-26T07:43:15.729512Z",
     "iopub.status.idle": "2024-02-26T07:43:15.746698Z",
     "shell.execute_reply": "2024-02-26T07:43:15.745740Z"
    },
    "papermill": {
     "duration": 0.032419,
     "end_time": "2024-02-26T07:43:15.748520",
     "exception": false,
     "start_time": "2024-02-26T07:43:15.716101",
     "status": "completed"
    },
    "tags": []
   },
   "outputs": [
    {
     "data": {
      "text/plain": [
       "[shape: (1_500_476, 53)\n",
       " ┌─────────┬────────────┬───────────┬───────────┬───┬───────────┬───────────┬───────────┬───────────┐\n",
       " │ case_id ┆ assignment ┆ assignmen ┆ assignmen ┆ … ┆ riskasses ┆ riskasses ┆ secondqua ┆ thirdquar │\n",
       " │ ---     ┆ date_238D  ┆ tdate_452 ┆ tdate_495 ┆   ┆ ment_302T ┆ ment_940T ┆ rter_766L ┆ ter_1082L │\n",
       " │ i64     ┆ ---        ┆ 7235D     ┆ 5616D     ┆   ┆ ---       ┆ ---       ┆ ---       ┆ ---       │\n",
       " │         ┆ str        ┆ ---       ┆ ---       ┆   ┆ str       ┆ f64       ┆ f64       ┆ f64       │\n",
       " │         ┆            ┆ str       ┆ str       ┆   ┆           ┆           ┆           ┆           │\n",
       " ╞═════════╪════════════╪═══════════╪═══════════╪═══╪═══════════╪═══════════╪═══════════╪═══════════╡\n",
       " │ 357     ┆ null       ┆ null      ┆ null      ┆ … ┆ null      ┆ null      ┆ null      ┆ null      │\n",
       " │ 381     ┆ null       ┆ null      ┆ null      ┆ … ┆ null      ┆ null      ┆ null      ┆ null      │\n",
       " │ 388     ┆ null       ┆ null      ┆ null      ┆ … ┆ null      ┆ null      ┆ 3.0       ┆ 5.0       │\n",
       " │ 405     ┆ null       ┆ null      ┆ null      ┆ … ┆ null      ┆ null      ┆ 2.0       ┆ 0.0       │\n",
       " │ …       ┆ …          ┆ …         ┆ …         ┆ … ┆ …         ┆ …         ┆ …         ┆ …         │\n",
       " │ 2703451 ┆ null       ┆ null      ┆ 2005-06-1 ┆ … ┆ null      ┆ null      ┆ 1.0       ┆ 2.0       │\n",
       " │         ┆            ┆           ┆ 5         ┆   ┆           ┆           ┆           ┆           │\n",
       " │ 2703452 ┆ null       ┆ null      ┆ null      ┆ … ┆ null      ┆ null      ┆ 0.0       ┆ 4.0       │\n",
       " │ 2703453 ┆ null       ┆ null      ┆ 2008-02-1 ┆ … ┆ null      ┆ null      ┆ 2.0       ┆ 1.0       │\n",
       " │         ┆            ┆           ┆ 5         ┆   ┆           ┆           ┆           ┆           │\n",
       " │ 2703454 ┆ null       ┆ null      ┆ 2000-08-2 ┆ … ┆ null      ┆ null      ┆ 2.0       ┆ 1.0       │\n",
       " │         ┆            ┆           ┆ 2         ┆   ┆           ┆           ┆           ┆           │\n",
       " └─────────┴────────────┴───────────┴───────────┴───┴───────────┴───────────┴───────────┴───────────┘,\n",
       " shape: (1_526_659, 168)\n",
       " ┌─────────┬────────────┬───────────┬───────────┬───┬───────────┬───────────┬───────────┬───────────┐\n",
       " │ case_id ┆ actualdpdt ┆ amtinstpa ┆ annuity_7 ┆ … ┆ totinstal ┆ twobodfil ┆ typesuite ┆ validfrom │\n",
       " │ ---     ┆ olerance_3 ┆ idbefduel ┆ 80A       ┆   ┆ last1m_45 ┆ ling_608L ┆ _864L     ┆ _1069D    │\n",
       " │ i64     ┆ 44P        ┆ 24m_41871 ┆ ---       ┆   ┆ 25188A    ┆ ---       ┆ ---       ┆ ---       │\n",
       " │         ┆ ---        ┆ 15A       ┆ f64       ┆   ┆ ---       ┆ str       ┆ str       ┆ str       │\n",
       " │         ┆ f64        ┆ ---       ┆           ┆   ┆ f64       ┆           ┆           ┆           │\n",
       " │         ┆            ┆ f64       ┆           ┆   ┆           ┆           ┆           ┆           │\n",
       " ╞═════════╪════════════╪═══════════╪═══════════╪═══╪═══════════╪═══════════╪═══════════╪═══════════╡\n",
       " │ 0       ┆ null       ┆ null      ┆ 1917.6    ┆ … ┆ null      ┆ BO        ┆ null      ┆ null      │\n",
       " │ 1       ┆ null       ┆ null      ┆ 3134.0    ┆ … ┆ null      ┆ BO        ┆ null      ┆ null      │\n",
       " │ 2       ┆ null       ┆ null      ┆ 4937.0    ┆ … ┆ null      ┆ BO        ┆ AL        ┆ null      │\n",
       " │ 3       ┆ null       ┆ null      ┆ 4643.6    ┆ … ┆ null      ┆ BO        ┆ AL        ┆ null      │\n",
       " │ …       ┆ …          ┆ …         ┆ …         ┆ … ┆ …         ┆ …         ┆ …         ┆ …         │\n",
       " │ 2703451 ┆ 0.0        ┆ 301276.47 ┆ 7088.6    ┆ … ┆ 40499.805 ┆ FO        ┆ null      ┆ null      │\n",
       " │ 2703452 ┆ 0.0        ┆ 14232.4   ┆ 7788.8003 ┆ … ┆ null      ┆ BO        ┆ null      ┆ null      │\n",
       " │ 2703453 ┆ 0.0        ┆ 197371.58 ┆ 1195.4    ┆ … ┆ 5654.4    ┆ BO        ┆ null      ┆ null      │\n",
       " │ 2703454 ┆ 0.0        ┆ 82949.6   ┆ 4533.8003 ┆ … ┆ 2986.8    ┆ FO        ┆ null      ┆ null      │\n",
       " └─────────┴────────────┴───────────┴───────────┴───┴───────────┴───────────┴───────────┴───────────┘]"
      ]
     },
     "execution_count": 9,
     "metadata": {},
     "output_type": "execute_result"
    }
   ],
   "source": [
    "train_dataset.depth_0"
   ]
  },
  {
   "cell_type": "code",
   "execution_count": null,
   "id": "7c854ee5",
   "metadata": {
    "papermill": {
     "duration": 0.012528,
     "end_time": "2024-02-26T07:43:15.773967",
     "exception": false,
     "start_time": "2024-02-26T07:43:15.761439",
     "status": "completed"
    },
    "tags": []
   },
   "outputs": [],
   "source": []
  },
  {
   "cell_type": "code",
   "execution_count": null,
   "id": "014841e1",
   "metadata": {
    "papermill": {
     "duration": 0.013202,
     "end_time": "2024-02-26T07:43:15.799803",
     "exception": false,
     "start_time": "2024-02-26T07:43:15.786601",
     "status": "completed"
    },
    "tags": []
   },
   "outputs": [],
   "source": []
  },
  {
   "cell_type": "code",
   "execution_count": 10,
   "id": "2fc0afcf",
   "metadata": {
    "execution": {
     "iopub.execute_input": "2024-02-26T07:43:15.826717Z",
     "iopub.status.busy": "2024-02-26T07:43:15.826377Z",
     "iopub.status.idle": "2024-02-26T07:45:44.016335Z",
     "shell.execute_reply": "2024-02-26T07:45:44.015428Z"
    },
    "papermill": {
     "duration": 148.205934,
     "end_time": "2024-02-26T07:45:44.018469",
     "exception": false,
     "start_time": "2024-02-26T07:43:15.812535",
     "status": "completed"
    },
    "tags": []
   },
   "outputs": [
    {
     "name": "stdout",
     "output_type": "stream",
     "text": [
      "Train dataset week range: 0-91\n",
      "Step: set_types, execution_time: 16.991347789764404\n",
      "Step: aggregate_depth_table, execution_time: 55.333702087402344\n",
      "Step: join_table, execution_time: 11.784667015075684\n",
      "Step: process_date, execution_time: 7.059737682342529\n",
      "Step: process_categorical, execution_time: 41.132843255996704\n",
      "Columns to drop: ['assignmentdate_4955616D', 'dateofbirth_342D', 'for3years_128L', 'for3years_504L', 'for3years_584L', 'formonth_118L', 'formonth_206L', 'formonth_535L', 'forquarter_1017L', 'forquarter_462L', 'forquarter_634L', 'fortoday_1092L', 'forweek_1077L', 'forweek_528L', 'forweek_601L', 'foryear_618L', 'foryear_818L', 'foryear_850L', 'pmtaverage_4955615A', 'pmtcount_4955617L', 'riskassesment_940T', 'clientscnt_136L', 'equalityempfrom_62L', 'interestrategrace_34L', 'isbidproductrequest_292L', 'lastdependentsnum_448L', 'lastotherinc_902A', 'lastotherlnsexpense_631A', 'lastrepayingdate_696D', 'maxannuity_4075009A', 'payvacationpostpone_4187118D', 'first_credacc_actualbalance_314A', 'first_credacc_maxhisbal_375A', 'first_credacc_minhisbal_90A', 'last_revolvingaccount_394A', 'mean_approvaldate_319D', 'mean_creationdate_885D', 'mean_dateactivated_425D', 'mean_dtlastpmt_581D', 'mean_dtlastpmtallstes_3545839D', 'mean_employedfrom_700D', 'mean_firstnonzeroinstldate_307D', 'first_byoccupationinc_3656910L', 'first_credacc_transactions_402L', 'last_isdebitcard_527L', 'mean_recorddate_4527225D', 'mean_deductiondate_4917603D', 'mean_processingdate_168D', 'max_amount_1115A', 'max_credlmt_1052A', 'max_credlmt_228A', 'max_credlmt_3940954A', 'max_debtpastduevalue_732A', 'max_debtvalue_227A', 'max_dpd_550P', 'max_dpd_733P', 'max_dpdmax_851P', 'max_installmentamount_644A', 'max_installmentamount_833A', 'max_instlamount_892A', 'max_maxdebtpduevalodued_3940955A', 'max_overdueamountmax_950A', 'max_pmtdaysoverdue_1135P', 'max_residualamount_1093A', 'max_residualamount_127A', 'max_residualamount_3940956A', 'max_totalamount_503A', 'max_totalamount_881A', 'min_amount_1115A', 'min_credlmt_1052A', 'min_credlmt_228A', 'min_credlmt_3940954A', 'min_debtpastduevalue_732A', 'min_debtvalue_227A', 'min_dpd_550P', 'min_dpd_733P', 'min_dpdmax_851P', 'min_installmentamount_644A', 'min_installmentamount_833A', 'min_instlamount_892A', 'min_maxdebtpduevalodued_3940955A', 'min_overdueamountmax_950A', 'min_pmtdaysoverdue_1135P', 'min_residualamount_1093A', 'min_residualamount_127A', 'min_residualamount_3940956A', 'min_totalamount_503A', 'min_totalamount_881A', 'first_amount_1115A', 'first_credlmt_1052A', 'first_credlmt_228A', 'first_credlmt_3940954A', 'first_debtpastduevalue_732A', 'first_debtvalue_227A', 'first_dpd_550P', 'first_dpd_733P', 'first_dpdmax_851P', 'first_installmentamount_644A', 'first_installmentamount_833A', 'first_instlamount_892A', 'first_maxdebtpduevalodued_3940955A', 'first_overdueamountmax_950A', 'first_pmtdaysoverdue_1135P', 'first_residualamount_1093A', 'first_residualamount_127A', 'first_residualamount_3940956A', 'first_totalamount_503A', 'first_totalamount_881A', 'last_amount_1115A', 'last_credlmt_1052A', 'last_credlmt_228A', 'last_credlmt_3940954A', 'last_debtpastduevalue_732A', 'last_debtvalue_227A', 'last_dpd_550P', 'last_dpd_733P', 'last_dpdmax_851P', 'last_installmentamount_644A', 'last_installmentamount_833A', 'last_instlamount_892A', 'last_maxdebtpduevalodued_3940955A', 'last_overdueamountmax_950A', 'last_pmtdaysoverdue_1135P', 'last_residualamount_1093A', 'last_residualamount_127A', 'last_residualamount_3940956A', 'last_totalamount_503A', 'last_totalamount_881A', 'mean_amount_1115A', 'mean_credlmt_1052A', 'mean_credlmt_228A', 'mean_credlmt_3940954A', 'mean_debtpastduevalue_732A', 'mean_debtvalue_227A', 'mean_dpd_550P', 'mean_dpd_733P', 'mean_dpdmax_851P', 'mean_installmentamount_644A', 'mean_installmentamount_833A', 'mean_instlamount_892A', 'mean_maxdebtpduevalodued_3940955A', 'mean_overdueamountmax_950A', 'mean_pmtdaysoverdue_1135P', 'mean_residualamount_1093A', 'mean_residualamount_127A', 'mean_residualamount_3940956A', 'mean_totalamount_503A', 'mean_totalamount_881A', 'max_contractdate_551D', 'max_contractmaturitydate_151D', 'max_lastupdate_260D', 'min_contractdate_551D', 'min_contractmaturitydate_151D', 'min_lastupdate_260D', 'first_contractdate_551D', 'first_contractmaturitydate_151D', 'first_lastupdate_260D', 'last_contractdate_551D', 'last_contractmaturitydate_151D', 'last_lastupdate_260D', 'mean_contractdate_551D', 'mean_contractmaturitydate_151D', 'mean_lastupdate_260D', 'max_credquantity_1099L', 'max_credquantity_984L', 'max_dpdmaxdatemonth_804T', 'max_dpdmaxdateyear_742T', 'max_interesteffectiverate_369L', 'max_interestrateyearly_538L', 'max_numberofinstls_810L', 'max_overdueamountmaxdatemonth_494T', 'max_overdueamountmaxdateyear_432T', 'max_pmtnumpending_403L', 'min_credquantity_1099L', 'min_credquantity_984L', 'min_dpdmaxdatemonth_804T', 'min_dpdmaxdateyear_742T', 'min_interesteffectiverate_369L', 'min_interestrateyearly_538L', 'min_numberofinstls_810L', 'min_overdueamountmaxdatemonth_494T', 'min_overdueamountmaxdateyear_432T', 'min_pmtnumpending_403L', 'first_credquantity_1099L', 'first_credquantity_984L', 'first_dpdmaxdatemonth_804T', 'first_dpdmaxdateyear_742T', 'first_interesteffectiverate_369L', 'first_interestrateyearly_538L', 'first_numberofinstls_810L', 'first_overdueamountmaxdatemonth_494T', 'first_overdueamountmaxdateyear_432T', 'first_pmtnumpending_403L', 'last_credquantity_1099L', 'last_credquantity_984L', 'last_dpdmaxdatemonth_804T', 'last_dpdmaxdateyear_742T', 'last_interesteffectiverate_369L', 'last_interestrateyearly_538L', 'last_numberofinstls_810L', 'last_overdueamountmaxdatemonth_494T', 'last_overdueamountmaxdateyear_432T', 'last_pmtnumpending_403L', 'max_num_group1_6', 'min_num_group1_6', 'first_num_group1_6', 'last_num_group1_6', 'max_amtdebitincoming_4809443A', 'max_amtdebitoutgoing_4809440A', 'max_amtdepositbalance_4809441A', 'max_amtdepositincoming_4809444A', 'max_amtdepositoutgoing_4809442A', 'min_amtdebitincoming_4809443A', 'min_amtdebitoutgoing_4809440A', 'min_amtdepositbalance_4809441A', 'min_amtdepositincoming_4809444A', 'min_amtdepositoutgoing_4809442A', 'first_amtdebitincoming_4809443A', 'first_amtdebitoutgoing_4809440A', 'first_amtdepositbalance_4809441A', 'first_amtdepositincoming_4809444A', 'first_amtdepositoutgoing_4809442A', 'last_amtdebitincoming_4809443A', 'last_amtdebitoutgoing_4809440A', 'last_amtdepositbalance_4809441A', 'last_amtdepositincoming_4809444A', 'last_amtdepositoutgoing_4809442A', 'mean_amtdebitincoming_4809443A', 'mean_amtdebitoutgoing_4809440A', 'mean_amtdepositbalance_4809441A', 'mean_amtdepositincoming_4809444A', 'mean_amtdepositoutgoing_4809442A', 'max_num_group1_7', 'min_num_group1_7', 'first_num_group1_7', 'last_num_group1_7', 'max_birthdate_87D', 'min_birthdate_87D', 'first_birthdate_87D', 'last_birthdate_87D', 'last_empl_employedfrom_271D', 'mean_birth_259D', 'mean_birthdate_87D', 'mean_empl_employedfrom_271D', 'max_childnum_185L', 'max_isreference_387L', 'min_childnum_185L', 'min_isreference_387L', 'first_childnum_185L', 'first_isreference_387L', 'first_remitter_829L', 'last_childnum_185L', 'last_isreference_387L', 'max_contractenddate_991D', 'min_contractenddate_991D', 'first_contractenddate_991D', 'last_contractenddate_991D', 'mean_contractenddate_991D', 'mean_openingdate_313D', 'max_last180dayaveragebalance_704A', 'max_last180dayturnover_1134A', 'max_last30dayturnover_651A', 'min_last180dayaveragebalance_704A', 'min_last180dayturnover_1134A', 'min_last30dayturnover_651A', 'first_last180dayaveragebalance_704A', 'first_last180dayturnover_1134A', 'first_last30dayturnover_651A', 'last_last180dayaveragebalance_704A', 'last_last180dayturnover_1134A', 'last_last30dayturnover_651A', 'mean_last180dayaveragebalance_704A', 'mean_last180dayturnover_1134A', 'mean_last30dayturnover_651A', 'mean_openingdate_857D', 'max_pmts_dpdvalue_108P', 'max_pmts_pmtsoverdue_635A', 'min_pmts_dpdvalue_108P', 'min_pmts_pmtsoverdue_635A', 'first_pmts_dpdvalue_108P', 'first_pmts_pmtsoverdue_635A', 'last_pmts_dpdvalue_108P', 'last_pmts_pmtsoverdue_635A', 'mean_pmts_dpdvalue_108P', 'mean_pmts_pmtsoverdue_635A', 'max_pmts_date_1107D', 'min_pmts_date_1107D', 'first_pmts_date_1107D', 'last_pmts_date_1107D', 'mean_pmts_date_1107D', 'max_num_group1_11', 'max_num_group2', 'min_num_group1_11', 'min_num_group2', 'first_num_group1_11', 'first_num_group2', 'last_num_group1_11', 'last_num_group2', 'lastapprcommoditytypec_5251766M', 'previouscontdistrict_112M', 'max_district_544M', 'max_profession_152M', 'min_district_544M', 'min_profession_152M', 'first_district_544M', 'first_profession_152M', 'last_district_544M', 'last_profession_152M', 'mode_district_544M', 'mode_profession_152M', 'max_name_4527232M', 'min_name_4527232M', 'first_name_4527232M', 'last_name_4527232M', 'mode_name_4527232M', 'max_name_4917606M', 'min_name_4917606M', 'first_name_4917606M', 'last_name_4917606M', 'mode_name_4917606M', 'max_employername_160M', 'min_employername_160M', 'first_employername_160M', 'last_employername_160M', 'mode_employername_160M', 'max_contaddr_district_15M', 'max_contaddr_zipcode_807M', 'max_registaddr_district_1083M', 'max_registaddr_zipcode_184M', 'min_contaddr_district_15M', 'min_contaddr_zipcode_807M', 'min_empladdr_district_926M', 'min_empladdr_zipcode_114M', 'min_registaddr_district_1083M', 'min_registaddr_zipcode_184M', 'first_contaddr_district_15M', 'first_contaddr_zipcode_807M', 'first_empladdr_district_926M', 'first_empladdr_zipcode_114M', 'first_registaddr_district_1083M', 'first_registaddr_zipcode_184M', 'last_contaddr_district_15M', 'last_contaddr_zipcode_807M', 'last_registaddr_district_1083M', 'last_registaddr_zipcode_184M', 'mode_contaddr_district_15M', 'mode_contaddr_zipcode_807M', 'mode_empladdr_district_926M', 'mode_empladdr_zipcode_114M', 'mode_registaddr_district_1083M', 'mode_registaddr_zipcode_184M', 'min_role_1084L', 'first_housingtype_772L', 'first_relationshiptoclient_415T', 'first_relationshiptoclient_642T', 'date_decision', 'MONTH']\n",
      "Step: drop_columns, execution_time: 5.398889541625977\n",
      "Step: reduce_memory_usage, execution_time: 2.1532578468322754\n",
      "Step: drop_non_important_features, execution_time: 0.18742728233337402\n"
     ]
    },
    {
     "data": {
      "text/plain": [
       "0"
      ]
     },
     "execution_count": 10,
     "metadata": {},
     "output_type": "execute_result"
    }
   ],
   "source": [
    "train_dataset = data_loader.load_train_dataset()\n",
    "print(\"Train dataset week range: {}-{}\".format(train_dataset.base[\"WEEK_NUM\"].min(), train_dataset.base[\"WEEK_NUM\"].max()))\n",
    "gc.collect()\n",
    "train_df = preprocessor.process_train_dataset(train_dataset)\n",
    "del train_dataset\n",
    "gc.collect()"
   ]
  },
  {
   "cell_type": "markdown",
   "id": "196d62a8",
   "metadata": {
    "_kg_hide-input": true,
    "papermill": {
     "duration": 0.014673,
     "end_time": "2024-02-26T07:45:44.047650",
     "exception": false,
     "start_time": "2024-02-26T07:45:44.032977",
     "status": "completed"
    },
    "tags": []
   },
   "source": [
    "# Data visualization"
   ]
  },
  {
   "cell_type": "code",
   "execution_count": 11,
   "id": "0999b94d",
   "metadata": {
    "execution": {
     "iopub.execute_input": "2024-02-26T07:45:44.078170Z",
     "iopub.status.busy": "2024-02-26T07:45:44.077825Z",
     "iopub.status.idle": "2024-02-26T07:45:44.082019Z",
     "shell.execute_reply": "2024-02-26T07:45:44.081167Z"
    },
    "papermill": {
     "duration": 0.021376,
     "end_time": "2024-02-26T07:45:44.083981",
     "exception": false,
     "start_time": "2024-02-26T07:45:44.062605",
     "status": "completed"
    },
    "tags": []
   },
   "outputs": [],
   "source": [
    "# def bucket_mean_split(x, y, buckets=100):\n",
    "#     x_buckets = []\n",
    "#     y_buckets = []\n",
    "\n",
    "#     x = np.array(x)\n",
    "#     y = np.array(y)\n",
    "#     x_quantiles = [np.quantile(x, i / buckets) for i in range(0, buckets + 1)]\n",
    "#     for i in range(0, buckets):\n",
    "#         filter = (x >= x_quantiles[i]) & (x <= x_quantiles[i + 1])\n",
    "#         x_buckets.append(np.mean(x[filter]))\n",
    "#         y_buckets.append(np.mean(y[filter]))\n",
    "#     return x_buckets, y_buckets"
   ]
  },
  {
   "cell_type": "code",
   "execution_count": 12,
   "id": "c12abdc6",
   "metadata": {
    "execution": {
     "iopub.execute_input": "2024-02-26T07:45:44.112683Z",
     "iopub.status.busy": "2024-02-26T07:45:44.112393Z",
     "iopub.status.idle": "2024-02-26T07:45:44.116068Z",
     "shell.execute_reply": "2024-02-26T07:45:44.115207Z"
    },
    "papermill": {
     "duration": 0.02013,
     "end_time": "2024-02-26T07:45:44.118024",
     "exception": false,
     "start_time": "2024-02-26T07:45:44.097894",
     "status": "completed"
    },
    "tags": []
   },
   "outputs": [],
   "source": [
    "# train[\"target\"].mean()"
   ]
  },
  {
   "cell_type": "code",
   "execution_count": 13,
   "id": "334f15e5",
   "metadata": {
    "execution": {
     "iopub.execute_input": "2024-02-26T07:45:44.146087Z",
     "iopub.status.busy": "2024-02-26T07:45:44.145848Z",
     "iopub.status.idle": "2024-02-26T07:45:44.149425Z",
     "shell.execute_reply": "2024-02-26T07:45:44.148617Z"
    },
    "papermill": {
     "duration": 0.019711,
     "end_time": "2024-02-26T07:45:44.151221",
     "exception": false,
     "start_time": "2024-02-26T07:45:44.131510",
     "status": "completed"
    },
    "tags": []
   },
   "outputs": [],
   "source": [
    "# print(\"Mean target={} where actualdpdtolerance_344P != 0\".format(train[\"target\"].filter(train[\"actualdpdtolerance_344P\"] != 0).mean()))\n",
    "# print(\"Mean target={} where actualdpdtolerance_344P == 0\".format(train[\"target\"].filter(train[\"actualdpdtolerance_344P\"] == 0).mean()))\n",
    "# print(\"Mean target={} where actualdpdtolerance_344P is null\".format(train[\"target\"].filter(train[\"actualdpdtolerance_344P\"].is_null()).mean()))"
   ]
  },
  {
   "cell_type": "code",
   "execution_count": 14,
   "id": "26327ecd",
   "metadata": {
    "execution": {
     "iopub.execute_input": "2024-02-26T07:45:44.179335Z",
     "iopub.status.busy": "2024-02-26T07:45:44.179077Z",
     "iopub.status.idle": "2024-02-26T07:45:44.183163Z",
     "shell.execute_reply": "2024-02-26T07:45:44.182336Z"
    },
    "papermill": {
     "duration": 0.020395,
     "end_time": "2024-02-26T07:45:44.185179",
     "exception": false,
     "start_time": "2024-02-26T07:45:44.164784",
     "status": "completed"
    },
    "tags": []
   },
   "outputs": [],
   "source": [
    "# columns = [column for column in train.columns if (train[column].dtype == pl.Float64)]\n",
    "\n",
    "# figure, axis = plt.subplots(len(columns) // 5 + 1, 5, figsize=(15, 30))\n",
    "# for index, column in enumerate(columns):\n",
    "#     current_plot = axis[index // 5, index % 5]\n",
    "#     x = train[column]\n",
    "#     y = train[\"target\"]\n",
    "#     if (x.dtype == pl.String or x.dtype == pl.Boolean):\n",
    "#         continue\n",
    "#     filter = x.is_not_null()\n",
    "#     x = x.filter(filter)\n",
    "#     y = y.filter(filter)\n",
    "#     if (x.is_empty()):\n",
    "#         continue\n",
    "#     x_bucket, y_bucket = bucket_mean_split(x.to_numpy(), y.to_numpy(), buckets=100)\n",
    "#     current_plot.plot(x_bucket, y_bucket)\n",
    "#     current_plot.set_title(column)\n",
    "# plt.show()"
   ]
  },
  {
   "cell_type": "code",
   "execution_count": 15,
   "id": "42119578",
   "metadata": {
    "execution": {
     "iopub.execute_input": "2024-02-26T07:45:44.213516Z",
     "iopub.status.busy": "2024-02-26T07:45:44.213247Z",
     "iopub.status.idle": "2024-02-26T07:45:44.217810Z",
     "shell.execute_reply": "2024-02-26T07:45:44.216965Z"
    },
    "papermill": {
     "duration": 0.020863,
     "end_time": "2024-02-26T07:45:44.219645",
     "exception": false,
     "start_time": "2024-02-26T07:45:44.198782",
     "status": "completed"
    },
    "tags": []
   },
   "outputs": [],
   "source": [
    "features = train_df.columns\n",
    "features.remove(\"WEEK_NUM\")\n",
    "features.remove(\"case_id\")\n",
    "features.remove(\"target\")"
   ]
  },
  {
   "cell_type": "markdown",
   "id": "e9e2ea3d",
   "metadata": {
    "papermill": {
     "duration": 0.013657,
     "end_time": "2024-02-26T07:45:44.246891",
     "exception": false,
     "start_time": "2024-02-26T07:45:44.233234",
     "status": "completed"
    },
    "tags": []
   },
   "source": [
    "### Feature Importance"
   ]
  },
  {
   "cell_type": "code",
   "execution_count": 16,
   "id": "2d99add5",
   "metadata": {
    "execution": {
     "iopub.execute_input": "2024-02-26T07:45:44.275651Z",
     "iopub.status.busy": "2024-02-26T07:45:44.275135Z",
     "iopub.status.idle": "2024-02-26T07:45:44.281832Z",
     "shell.execute_reply": "2024-02-26T07:45:44.281016Z"
    },
    "papermill": {
     "duration": 0.022979,
     "end_time": "2024-02-26T07:45:44.283694",
     "exception": false,
     "start_time": "2024-02-26T07:45:44.260715",
     "status": "completed"
    },
    "tags": []
   },
   "outputs": [],
   "source": [
    "def train_rf(X, Y):    \n",
    "    params = {\n",
    "        \"boosting_type\": \"gbdt\",\n",
    "        \"objective\": \"binary\",\n",
    "        \"metric\": \"auc\",\n",
    "        \"max_depth\": 8,\n",
    "        \"max_bin\": 255,\n",
    "        \"learning_rate\": 0.05,\n",
    "        \"n_estimators\": 200,\n",
    "        \"colsample_bytree\": 0.8, \n",
    "        \"colsample_bynode\": 0.8,\n",
    "        \"verbose\": -1,\n",
    "        \"random_state\": 42,\n",
    "        \"device\": \"gpu\",\n",
    "    }\n",
    "    \n",
    "    model = lgb.LGBMClassifier(**params)\n",
    "    \n",
    "    model.fit(X.to_pandas(), Y.to_pandas())\n",
    "    \n",
    "    # Get feature importances\n",
    "    return pl.DataFrame({\n",
    "        \"feature\": list(X.columns),\n",
    "        \"feature_importance\": model.feature_importances_,\n",
    "        \"train_score\": roc_auc_score(Y.to_pandas(), model.predict(X.to_pandas()))\n",
    "    })"
   ]
  },
  {
   "cell_type": "code",
   "execution_count": 17,
   "id": "6614339d",
   "metadata": {
    "execution": {
     "iopub.execute_input": "2024-02-26T07:45:44.312439Z",
     "iopub.status.busy": "2024-02-26T07:45:44.311691Z",
     "iopub.status.idle": "2024-02-26T07:45:44.317709Z",
     "shell.execute_reply": "2024-02-26T07:45:44.317044Z"
    },
    "papermill": {
     "duration": 0.022227,
     "end_time": "2024-02-26T07:45:44.319515",
     "exception": false,
     "start_time": "2024-02-26T07:45:44.297288",
     "status": "completed"
    },
    "tags": []
   },
   "outputs": [],
   "source": [
    "def get_feature_importance(X, Y):\n",
    "    COUNT_ITER = 50\n",
    "    \n",
    "    dfs = []\n",
    "    for i in range(COUNT_ITER):\n",
    "        gc.collect()\n",
    "        \n",
    "        start_time = time.time()\n",
    "        shuffled_Y = Y.clone().sample(fraction=1.0, shuffle=True)\n",
    "        current_df = train_rf(X, shuffled_Y)\n",
    "        finish_time = time.time()\n",
    "        print(f\"Finish iteration: {i + 1}/{COUNT_ITER}, time: {finish_time - start_time}\")\n",
    "        current_df = current_df.with_columns(pl.lit(i).alias(\"iteration\"))\n",
    "        dfs.append(current_df)\n",
    "        \n",
    "    return pl.concat(dfs, rechunk=True), train_rf(X, Y)"
   ]
  },
  {
   "cell_type": "code",
   "execution_count": 18,
   "id": "1871e588",
   "metadata": {
    "execution": {
     "iopub.execute_input": "2024-02-26T07:45:44.347797Z",
     "iopub.status.busy": "2024-02-26T07:45:44.347525Z",
     "iopub.status.idle": "2024-02-26T07:45:44.351103Z",
     "shell.execute_reply": "2024-02-26T07:45:44.350290Z"
    },
    "papermill": {
     "duration": 0.019838,
     "end_time": "2024-02-26T07:45:44.352955",
     "exception": false,
     "start_time": "2024-02-26T07:45:44.333117",
     "status": "completed"
    },
    "tags": []
   },
   "outputs": [],
   "source": [
    "# shuffled_feature_importance_df, feature_importance_df = get_feature_importance(train_df[features], train_df[\"target\"])\n",
    "# shuffled_feature_importance_df.write_csv(\"shuffled_feature_importance_df.csv\", separator=\",\")\n",
    "# feature_importance_df.write_csv(\"feature_importance_df.csv\", separator=\",\")"
   ]
  },
  {
   "cell_type": "code",
   "execution_count": 19,
   "id": "cd3e7504",
   "metadata": {
    "execution": {
     "iopub.execute_input": "2024-02-26T07:45:44.380932Z",
     "iopub.status.busy": "2024-02-26T07:45:44.380695Z",
     "iopub.status.idle": "2024-02-26T07:45:44.384416Z",
     "shell.execute_reply": "2024-02-26T07:45:44.383618Z"
    },
    "papermill": {
     "duration": 0.019826,
     "end_time": "2024-02-26T07:45:44.386225",
     "exception": false,
     "start_time": "2024-02-26T07:45:44.366399",
     "status": "completed"
    },
    "tags": []
   },
   "outputs": [],
   "source": [
    "# important_features = []\n",
    "# for column in feature_importance_df[\"feature\"]:\n",
    "#     shuffled_feature_importance = shuffled_feature_importance_df.filter(shuffled_feature_importance_df[\"feature\"] == column)[\"feature_importance\"].to_numpy()\n",
    "#     feature_importance = feature_importance_df.filter(feature_importance_df[\"feature\"] == column)[\"feature_importance\"][0]\n",
    "    \n",
    "#     if (np.percentile(shuffled_feature_importance, 90) <= feature_importance):\n",
    "#         important_features.append(column)\n",
    "# print(len(important_features), important_features)"
   ]
  },
  {
   "cell_type": "markdown",
   "id": "6e27ca06",
   "metadata": {
    "papermill": {
     "duration": 0.013553,
     "end_time": "2024-02-26T07:45:44.413420",
     "exception": false,
     "start_time": "2024-02-26T07:45:44.399867",
     "status": "completed"
    },
    "tags": []
   },
   "source": [
    "# Training"
   ]
  },
  {
   "cell_type": "code",
   "execution_count": 20,
   "id": "67f71c06",
   "metadata": {
    "execution": {
     "iopub.execute_input": "2024-02-26T07:45:44.441784Z",
     "iopub.status.busy": "2024-02-26T07:45:44.441531Z",
     "iopub.status.idle": "2024-02-26T07:45:44.448428Z",
     "shell.execute_reply": "2024-02-26T07:45:44.447624Z"
    },
    "papermill": {
     "duration": 0.023049,
     "end_time": "2024-02-26T07:45:44.450241",
     "exception": false,
     "start_time": "2024-02-26T07:45:44.427192",
     "status": "completed"
    },
    "tags": []
   },
   "outputs": [],
   "source": [
    "class VotingModel(BaseEstimator, RegressorMixin):\n",
    "    def __init__(self, estimators):\n",
    "        super().__init__()\n",
    "        self.estimators = estimators\n",
    "        \n",
    "    def fit(self, X, y=None):\n",
    "        return self\n",
    "    \n",
    "    def predict(self, X):\n",
    "        y_preds = [estimator.predict(X) for estimator in self.estimators]\n",
    "        return np.mean(y_preds, axis=0)\n",
    "    \n",
    "    def predict_proba(self, X):\n",
    "        y_preds = [estimator.predict_proba(X) for estimator in self.estimators]\n",
    "        return np.mean(y_preds, axis=0)\n",
    "    \n",
    "    def get_feature_importance(self):\n",
    "        feature_importances = np.array([0 for feature in features])\n",
    "\n",
    "        for model in self.estimators:\n",
    "            feature_importances += model.feature_importances_\n",
    "\n",
    "        return feature_importances"
   ]
  },
  {
   "cell_type": "code",
   "execution_count": 21,
   "id": "e75e365c",
   "metadata": {
    "execution": {
     "iopub.execute_input": "2024-02-26T07:45:44.478410Z",
     "iopub.status.busy": "2024-02-26T07:45:44.478164Z",
     "iopub.status.idle": "2024-02-26T07:45:44.481871Z",
     "shell.execute_reply": "2024-02-26T07:45:44.481015Z"
    },
    "papermill": {
     "duration": 0.019939,
     "end_time": "2024-02-26T07:45:44.483822",
     "exception": false,
     "start_time": "2024-02-26T07:45:44.463883",
     "status": "completed"
    },
    "tags": []
   },
   "outputs": [],
   "source": [
    "# for column in features:\n",
    "#     if (train_dataset[column].dtype != pl.Categorical) and \\\n",
    "#         (train_dataset[column].dtype != pl.Float64) and \\\n",
    "#         (train_dataset[column].dtype != pl.Float64):\n",
    "#         print(column, train_dataset[column].dtype)"
   ]
  },
  {
   "cell_type": "code",
   "execution_count": null,
   "id": "daebc4f7",
   "metadata": {
    "papermill": {
     "duration": 0.013359,
     "end_time": "2024-02-26T07:45:44.510669",
     "exception": false,
     "start_time": "2024-02-26T07:45:44.497310",
     "status": "completed"
    },
    "tags": []
   },
   "outputs": [],
   "source": []
  },
  {
   "cell_type": "code",
   "execution_count": null,
   "id": "3a073a0e",
   "metadata": {
    "papermill": {
     "duration": 0.01341,
     "end_time": "2024-02-26T07:45:44.537656",
     "exception": false,
     "start_time": "2024-02-26T07:45:44.524246",
     "status": "completed"
    },
    "tags": []
   },
   "outputs": [],
   "source": []
  },
  {
   "cell_type": "code",
   "execution_count": 22,
   "id": "948c7740",
   "metadata": {
    "execution": {
     "iopub.execute_input": "2024-02-26T07:45:44.565770Z",
     "iopub.status.busy": "2024-02-26T07:45:44.565458Z",
     "iopub.status.idle": "2024-02-26T07:45:44.571681Z",
     "shell.execute_reply": "2024-02-26T07:45:44.570853Z"
    },
    "papermill": {
     "duration": 0.022258,
     "end_time": "2024-02-26T07:45:44.573443",
     "exception": false,
     "start_time": "2024-02-26T07:45:44.551185",
     "status": "completed"
    },
    "tags": []
   },
   "outputs": [],
   "source": [
    "def train_lgb_model(X_train, Y_train, X_test, Y_test):\n",
    "    params = {\n",
    "        \"boosting_type\": \"gbdt\",\n",
    "        \"objective\": \"binary\",\n",
    "        \"metric\": \"auc\",\n",
    "        \"max_depth\": 8,\n",
    "        \"max_bin\": 250,\n",
    "        \"learning_rate\": 0.05,\n",
    "        \"n_estimators\": 1000,\n",
    "        \"colsample_bytree\": 0.8, \n",
    "        \"colsample_bynode\": 0.8,\n",
    "        \"verbose\": -1,\n",
    "        \"random_state\": 42,\n",
    "        \"device\": \"gpu\",\n",
    "    }\n",
    "    \n",
    "    model = lgb.LGBMClassifier(**params)\n",
    "    \n",
    "    model.fit(\n",
    "        X_train, Y_train,\n",
    "        eval_set=[(X_test, Y_test)],\n",
    "        callbacks=[lgb.log_evaluation(100), lgb.early_stopping(100)]\n",
    "    )\n",
    "        \n",
    "    return model\n",
    "\n"
   ]
  },
  {
   "cell_type": "code",
   "execution_count": 23,
   "id": "43c54ebd",
   "metadata": {
    "execution": {
     "iopub.execute_input": "2024-02-26T07:45:44.601410Z",
     "iopub.status.busy": "2024-02-26T07:45:44.601145Z",
     "iopub.status.idle": "2024-02-26T07:45:44.728805Z",
     "shell.execute_reply": "2024-02-26T07:45:44.727924Z"
    },
    "papermill": {
     "duration": 0.143738,
     "end_time": "2024-02-26T07:45:44.730724",
     "exception": false,
     "start_time": "2024-02-26T07:45:44.586986",
     "status": "completed"
    },
    "tags": []
   },
   "outputs": [
    {
     "data": {
      "text/plain": [
       "0"
      ]
     },
     "execution_count": 23,
     "metadata": {},
     "output_type": "execute_result"
    }
   ],
   "source": [
    "gc.collect()"
   ]
  },
  {
   "cell_type": "code",
   "execution_count": 24,
   "id": "9481e457",
   "metadata": {
    "execution": {
     "iopub.execute_input": "2024-02-26T07:45:44.760380Z",
     "iopub.status.busy": "2024-02-26T07:45:44.760110Z",
     "iopub.status.idle": "2024-02-26T07:55:05.355674Z",
     "shell.execute_reply": "2024-02-26T07:55:05.354670Z"
    },
    "papermill": {
     "duration": 560.612681,
     "end_time": "2024-02-26T07:55:05.357802",
     "exception": false,
     "start_time": "2024-02-26T07:45:44.745121",
     "status": "completed"
    },
    "tags": []
   },
   "outputs": [
    {
     "name": "stderr",
     "output_type": "stream",
     "text": [
      "1 warning generated.\n",
      "1 warning generated.\n",
      "1 warning generated.\n",
      "1 warning generated.\n",
      "1 warning generated.\n",
      "1 warning generated.\n",
      "1 warning generated.\n",
      "1 warning generated.\n",
      "1 warning generated.\n",
      "1 warning generated.\n",
      "1 warning generated.\n",
      "1 warning generated.\n",
      "1 warning generated.\n",
      "1 warning generated.\n",
      "1 warning generated.\n",
      "1 warning generated.\n",
      "1 warning generated.\n",
      "1 warning generated.\n",
      "1 warning generated.\n",
      "1 warning generated.\n",
      "1 warning generated.\n",
      "1 warning generated.\n",
      "1 warning generated.\n",
      "1 warning generated.\n",
      "1 warning generated.\n",
      "1 warning generated.\n",
      "1 warning generated.\n",
      "1 warning generated.\n",
      "1 warning generated.\n",
      "1 warning generated.\n",
      "1 warning generated.\n",
      "1 warning generated.\n",
      "1 warning generated.\n",
      "/opt/conda/lib/python3.10/site-packages/lightgbm/basic.py:1780: UserWarning: Overriding the parameters from Reference Dataset.\n",
      "  _log_warning('Overriding the parameters from Reference Dataset.')\n",
      "/opt/conda/lib/python3.10/site-packages/lightgbm/basic.py:1513: UserWarning: categorical_column in param dict is overridden.\n",
      "  _log_warning(f'{cat_alias} in param dict is overridden.')\n"
     ]
    },
    {
     "name": "stdout",
     "output_type": "stream",
     "text": [
      "Training until validation scores don't improve for 100 rounds\n",
      "[100]\tvalid_0's auc: 0.816374\n",
      "[200]\tvalid_0's auc: 0.824666\n",
      "[300]\tvalid_0's auc: 0.827106\n",
      "[400]\tvalid_0's auc: 0.827725\n",
      "[500]\tvalid_0's auc: 0.828164\n",
      "[600]\tvalid_0's auc: 0.828623\n",
      "[700]\tvalid_0's auc: 0.828964\n",
      "[800]\tvalid_0's auc: 0.829091\n",
      "[900]\tvalid_0's auc: 0.829324\n",
      "[1000]\tvalid_0's auc: 0.829417\n",
      "Did not meet early stopping. Best iteration is:\n",
      "[996]\tvalid_0's auc: 0.829442\n",
      "fit time: 99.79290318489075\n"
     ]
    },
    {
     "name": "stderr",
     "output_type": "stream",
     "text": [
      "/opt/conda/lib/python3.10/site-packages/lightgbm/basic.py:1780: UserWarning: Overriding the parameters from Reference Dataset.\n",
      "  _log_warning('Overriding the parameters from Reference Dataset.')\n",
      "/opt/conda/lib/python3.10/site-packages/lightgbm/basic.py:1513: UserWarning: categorical_column in param dict is overridden.\n",
      "  _log_warning(f'{cat_alias} in param dict is overridden.')\n"
     ]
    },
    {
     "name": "stdout",
     "output_type": "stream",
     "text": [
      "Training until validation scores don't improve for 100 rounds\n",
      "[100]\tvalid_0's auc: 0.818207\n",
      "[200]\tvalid_0's auc: 0.826426\n",
      "[300]\tvalid_0's auc: 0.828688\n",
      "[400]\tvalid_0's auc: 0.829617\n",
      "[500]\tvalid_0's auc: 0.829997\n",
      "[600]\tvalid_0's auc: 0.830545\n",
      "[700]\tvalid_0's auc: 0.830817\n",
      "[800]\tvalid_0's auc: 0.830846\n",
      "[900]\tvalid_0's auc: 0.831036\n",
      "[1000]\tvalid_0's auc: 0.831162\n",
      "Did not meet early stopping. Best iteration is:\n",
      "[981]\tvalid_0's auc: 0.831185\n",
      "fit time: 94.90766286849976\n"
     ]
    },
    {
     "name": "stderr",
     "output_type": "stream",
     "text": [
      "/opt/conda/lib/python3.10/site-packages/lightgbm/basic.py:1780: UserWarning: Overriding the parameters from Reference Dataset.\n",
      "  _log_warning('Overriding the parameters from Reference Dataset.')\n",
      "/opt/conda/lib/python3.10/site-packages/lightgbm/basic.py:1513: UserWarning: categorical_column in param dict is overridden.\n",
      "  _log_warning(f'{cat_alias} in param dict is overridden.')\n"
     ]
    },
    {
     "name": "stdout",
     "output_type": "stream",
     "text": [
      "Training until validation scores don't improve for 100 rounds\n",
      "[100]\tvalid_0's auc: 0.822241\n",
      "[200]\tvalid_0's auc: 0.830915\n",
      "[300]\tvalid_0's auc: 0.833639\n",
      "[400]\tvalid_0's auc: 0.834387\n",
      "[500]\tvalid_0's auc: 0.834844\n",
      "[600]\tvalid_0's auc: 0.835145\n",
      "[700]\tvalid_0's auc: 0.835402\n",
      "[800]\tvalid_0's auc: 0.835713\n",
      "[900]\tvalid_0's auc: 0.836033\n",
      "[1000]\tvalid_0's auc: 0.836119\n",
      "Did not meet early stopping. Best iteration is:\n",
      "[1000]\tvalid_0's auc: 0.836119\n",
      "fit time: 92.76177144050598\n"
     ]
    },
    {
     "name": "stderr",
     "output_type": "stream",
     "text": [
      "/opt/conda/lib/python3.10/site-packages/lightgbm/basic.py:1780: UserWarning: Overriding the parameters from Reference Dataset.\n",
      "  _log_warning('Overriding the parameters from Reference Dataset.')\n",
      "/opt/conda/lib/python3.10/site-packages/lightgbm/basic.py:1513: UserWarning: categorical_column in param dict is overridden.\n",
      "  _log_warning(f'{cat_alias} in param dict is overridden.')\n"
     ]
    },
    {
     "name": "stdout",
     "output_type": "stream",
     "text": [
      "Training until validation scores don't improve for 100 rounds\n",
      "[100]\tvalid_0's auc: 0.823605\n",
      "[200]\tvalid_0's auc: 0.832112\n",
      "[300]\tvalid_0's auc: 0.834455\n",
      "[400]\tvalid_0's auc: 0.835351\n",
      "[500]\tvalid_0's auc: 0.83591\n",
      "[600]\tvalid_0's auc: 0.836296\n",
      "[700]\tvalid_0's auc: 0.836399\n",
      "[800]\tvalid_0's auc: 0.836542\n",
      "[900]\tvalid_0's auc: 0.836942\n",
      "[1000]\tvalid_0's auc: 0.836997\n",
      "Did not meet early stopping. Best iteration is:\n",
      "[980]\tvalid_0's auc: 0.83701\n",
      "fit time: 97.38110017776489\n"
     ]
    },
    {
     "name": "stderr",
     "output_type": "stream",
     "text": [
      "/opt/conda/lib/python3.10/site-packages/lightgbm/basic.py:1780: UserWarning: Overriding the parameters from Reference Dataset.\n",
      "  _log_warning('Overriding the parameters from Reference Dataset.')\n",
      "/opt/conda/lib/python3.10/site-packages/lightgbm/basic.py:1513: UserWarning: categorical_column in param dict is overridden.\n",
      "  _log_warning(f'{cat_alias} in param dict is overridden.')\n"
     ]
    },
    {
     "name": "stdout",
     "output_type": "stream",
     "text": [
      "Training until validation scores don't improve for 100 rounds\n",
      "[100]\tvalid_0's auc: 0.817789\n",
      "[200]\tvalid_0's auc: 0.826491\n",
      "[300]\tvalid_0's auc: 0.828952\n",
      "[400]\tvalid_0's auc: 0.829966\n",
      "[500]\tvalid_0's auc: 0.83049\n",
      "[600]\tvalid_0's auc: 0.830752\n",
      "[700]\tvalid_0's auc: 0.830911\n",
      "[800]\tvalid_0's auc: 0.831002\n",
      "[900]\tvalid_0's auc: 0.831128\n",
      "Early stopping, best iteration is:\n",
      "[884]\tvalid_0's auc: 0.831163\n",
      "fit time: 91.94811487197876\n"
     ]
    },
    {
     "data": {
      "text/plain": [
       "0"
      ]
     },
     "execution_count": 24,
     "metadata": {},
     "output_type": "execute_result"
    }
   ],
   "source": [
    "weeks = train_df[\"WEEK_NUM\"]\n",
    "cv = StratifiedGroupKFold(n_splits=5, shuffle=False)\n",
    "\n",
    "fitted_models = []\n",
    "\n",
    "oof_predicted = np.zeros(train_df.shape[0])\n",
    "\n",
    "for idx_train, idx_test in cv.split(train_df[features], train_df[\"target\"], groups=weeks):        \n",
    "    X_train = train_df[features][idx_train].to_pandas()\n",
    "    Y_train = train_df[\"target\"][idx_train].to_pandas()\n",
    "    \n",
    "    X_test = train_df[features][idx_test].to_pandas()\n",
    "    Y_test = train_df[\"target\"][idx_test].to_pandas()\n",
    "    \n",
    "    start = time.time()\n",
    "    model = train_lgb_model(X_train, Y_train, X_test, Y_test)\n",
    "    finish = time.time()\n",
    "    \n",
    "    print(\"fit time: {}\".format(finish - start))\n",
    "    fitted_models.append(model)\n",
    "    \n",
    "    test_pred = model.predict_proba(X_test)[:, 1]\n",
    "    oof_predicted[idx_test] = test_pred\n",
    "    gc.collect()\n",
    "\n",
    "model = VotingModel(fitted_models)\n",
    "gc.collect()"
   ]
  },
  {
   "cell_type": "code",
   "execution_count": 25,
   "id": "f9e2d684",
   "metadata": {
    "execution": {
     "iopub.execute_input": "2024-02-26T07:55:05.399809Z",
     "iopub.status.busy": "2024-02-26T07:55:05.399485Z",
     "iopub.status.idle": "2024-02-26T07:55:05.897032Z",
     "shell.execute_reply": "2024-02-26T07:55:05.896008Z"
    },
    "papermill": {
     "duration": 0.520886,
     "end_time": "2024-02-26T07:55:05.899217",
     "exception": false,
     "start_time": "2024-02-26T07:55:05.378331",
     "status": "completed"
    },
    "tags": []
   },
   "outputs": [
    {
     "name": "stdout",
     "output_type": "stream",
     "text": [
      "CV roc_auc_oof:  0.8330398780736885\n"
     ]
    }
   ],
   "source": [
    "roc_auc_oof = roc_auc_score(train_df[\"target\"], oof_predicted)\n",
    "print(\"CV roc_auc_oof: \", roc_auc_oof)"
   ]
  },
  {
   "cell_type": "markdown",
   "id": "aa0fc094",
   "metadata": {
    "papermill": {
     "duration": 0.019957,
     "end_time": "2024-02-26T07:55:05.939729",
     "exception": false,
     "start_time": "2024-02-26T07:55:05.919772",
     "status": "completed"
    },
    "tags": []
   },
   "source": [
    "# Predict"
   ]
  },
  {
   "cell_type": "code",
   "execution_count": 26,
   "id": "21728832",
   "metadata": {
    "execution": {
     "iopub.execute_input": "2024-02-26T07:55:05.982087Z",
     "iopub.status.busy": "2024-02-26T07:55:05.981767Z",
     "iopub.status.idle": "2024-02-26T07:55:06.194257Z",
     "shell.execute_reply": "2024-02-26T07:55:06.193336Z"
    },
    "papermill": {
     "duration": 0.235629,
     "end_time": "2024-02-26T07:55:06.196323",
     "exception": false,
     "start_time": "2024-02-26T07:55:05.960694",
     "status": "completed"
    },
    "tags": []
   },
   "outputs": [
    {
     "data": {
      "text/plain": [
       "0"
      ]
     },
     "execution_count": 26,
     "metadata": {},
     "output_type": "execute_result"
    }
   ],
   "source": [
    "del train_df\n",
    "gc.collect()"
   ]
  },
  {
   "cell_type": "code",
   "execution_count": 27,
   "id": "13800394",
   "metadata": {
    "execution": {
     "iopub.execute_input": "2024-02-26T07:55:06.238463Z",
     "iopub.status.busy": "2024-02-26T07:55:06.238179Z",
     "iopub.status.idle": "2024-02-26T07:55:07.822053Z",
     "shell.execute_reply": "2024-02-26T07:55:07.821117Z"
    },
    "papermill": {
     "duration": 1.607016,
     "end_time": "2024-02-26T07:55:07.824047",
     "exception": false,
     "start_time": "2024-02-26T07:55:06.217031",
     "status": "completed"
    },
    "tags": []
   },
   "outputs": [
    {
     "name": "stdout",
     "output_type": "stream",
     "text": [
      "Test dataset week range: 92-92\n",
      "Step: set_types, execution_time: 0.0180966854095459\n",
      "Step: aggregate_depth_table, execution_time: 0.01849508285522461\n",
      "Step: join_table, execution_time: 0.010310173034667969\n",
      "Step: process_date, execution_time: 0.07008981704711914\n",
      "Step: process_categorical, execution_time: 0.7044830322265625\n",
      "Step: drop_columns, execution_time: 0.15135598182678223\n",
      "Step: reduce_memory_usage, execution_time: 0.08845019340515137\n",
      "Step: drop_non_important_features, execution_time: 0.07697653770446777\n"
     ]
    },
    {
     "data": {
      "text/plain": [
       "0"
      ]
     },
     "execution_count": 27,
     "metadata": {},
     "output_type": "execute_result"
    }
   ],
   "source": [
    "test_dataset = data_loader.load_test_dataset()\n",
    "print(\"Test dataset week range: {}-{}\".format(test_dataset.base[\"WEEK_NUM\"].min(), test_dataset.base[\"WEEK_NUM\"].max()))\n",
    "gc.collect()\n",
    "test_df = preprocessor.process_test_dataset(test_dataset)\n",
    "del test_dataset\n",
    "gc.collect()"
   ]
  },
  {
   "cell_type": "code",
   "execution_count": 28,
   "id": "32cbb300",
   "metadata": {
    "execution": {
     "iopub.execute_input": "2024-02-26T07:55:07.867935Z",
     "iopub.status.busy": "2024-02-26T07:55:07.867640Z",
     "iopub.status.idle": "2024-02-26T07:55:07.875392Z",
     "shell.execute_reply": "2024-02-26T07:55:07.874461Z"
    },
    "papermill": {
     "duration": 0.031488,
     "end_time": "2024-02-26T07:55:07.877233",
     "exception": false,
     "start_time": "2024-02-26T07:55:07.845745",
     "status": "completed"
    },
    "tags": []
   },
   "outputs": [
    {
     "name": "stdout",
     "output_type": "stream",
     "text": [
      "['price_1097A', 'max_employedfrom_700D', 'annuity_780A', 'dateofbirth_337D', 'maxdpdinstldate_3546855D', 'pmtssum_45A', 'disbursedcredamount_1113A', 'numincomingpmts_3546848L', 'lastdelinqdate_224D', 'pmtnum_254L', 'amtinstpaidbefduel24m_4187115A', 'last_birth_259D', 'mean_amount_4527230A', 'pctinstlsallpaidlate1d_3546856L', 'maxdebt4_972A', 'max_amount_4527230A', 'maxdbddpdtollast12m_3658940P', 'datelastinstal40dpd_247D', 'thirdquarter_1082L', 'days360_512L', 'applicationscnt_867L', 'cntpmts24_3658933L', 'numinstlsallpaid_934L', 'validfrom_1069D', 'numinstlswithdpd10_728L', 'mean_maxdpdtolerance_577P', 'max_num_group1_3', 'numinstlallpaidearly3d_817L', 'mean_credacc_actualbalance_314A', 'mobilephncnt_593L', 'maxdpdtolerance_374P', 'interestrate_311L', 'numinstpaidearly3d_3546850L', 'numberofqueries_373L', 'max_birth_259D', 'days180_256L', 'eir_270L', 'pmtaverage_4527227A', 'min_birth_259D', 'avgdpdtolclosure24_3658938P', 'days120_123L', 'first_birth_259D', 'pmtaverage_3A', 'max_pmtnum_8L', 'numinsttopaygr_769L', 'days90_310L', 'max_tenor_203L', 'pmtscount_423L', 'mean_outstandingdebt_522A', 'mean_currdebt_94A', 'riskassesment_302T', 'maxdpdlast24m_143P', 'days30_165L', 'max_maxdpdtolerance_577P', 'numinstunpaidmaxest_4493212L', 'numinstunpaidmax_3546851L', 'max_currdebt_94A', 'avgmaxdpdlast9m_3716943P', 'max_outstandingdebt_522A', 'currdebt_22A', 'maxdpdlast3m_392P', 'homephncnt_628L', 'maxdpdlast9m_1059P', 'maxdpdlast6m_474P', 'responsedate_4917613D', 'lastrejectreason_759M', 'min_relationshiptoclient_415T', 'min_relationshiptoclient_642T', 'max_relationshiptoclient_642T', 'max_relationshiptoclient_415T', 'education_1103M', 'max_postype_4733339M', 'responsedate_4527233D', 'totaldebt_9A', 'requesttype_4525192L', 'min_language1_981M', 'first_language1_981M', 'min_familystate_726L', 'min_education_1138M', 'max_status_219L', 'max_incometype_1044T', 'first_incometype_1044T', 'isbidproduct_1095L', 'clientscnt12m_3712952L', 'lastst_736L', 'min_incometype_1044T', 'mode_education_1138M', 'lastrejectreasonclient_4145040M', 'first_sex_738L', 'min_credtype_587L', 'credtype_322L', 'clientscnt6m_3712949L', 'first_actualdpd_943P', 'first_status_219L', 'first_education_927M', 'last_language1_981M', 'max_familystate_726L', 'max_sex_738L', 'mode_rejectreasonclient_4145042M', 'min_inittransactioncode_279L', 'min_sex_738L', 'last_education_1138M', 'max_language1_981M', 'description_5085714M', 'cardtype_51L', 'last_rejectreason_755M', 'last_incometype_1044T', 'twobodfilling_608L', 'last_sex_738L', 'min_education_927M', 'first_familystate_447L', 'first_familystate_726L', 'disbursementtype_67L', 'min_familystate_447L', 'last_familystate_726L', 'max_familystate_447L', 'first_contaddr_smempladdr_334L', 'min_num_group1_9', 'min_num_group1_10', 'max_contractst_516M', 'first_contractst_516M', 'bankacctype_710L', 'inittransactioncode_186L', 'last_credtype_587L', 'first_safeguarantyflag_411L', 'min_contractst_516M', 'first_education_1138M', 'max_rejectreason_755M', 'min_num_group1_4', 'max_empl_employedtotal_800L', 'mode_classificationofcontr_1114M', 'first_empl_employedtotal_800L', 'min_purposeofcred_722M', 'isdebitcard_729L', 'min_empl_employedtotal_800L', 'min_role_993L', 'min_maritalst_703L', 'last_housetype_905L', 'min_periodicityofpmts_997M', 'min_housetype_905L', 'min_num_group1_5', 'last_rejectreasonclient_4145042M', 'min_classificationofcontr_1114M', 'mode_purposeofcred_722M', 'min_pmtmethod_731M', 'last_maritalst_703L', 'last_pmtmethod_731M', 'first_role_993L', 'min_contracttype_653M', 'max_subjectrole_326M', 'first_housetype_905L', 'min_num_group1_3', 'last_subjectrole_43M', 'mastercontrelectronic_519L', 'min_subjectrole_326M', 'last_purposeofcred_722M', 'last_contracttype_653M', 'last_contaddr_matchlist_1032L', 'last_classificationofcontr_1114M', 'last_subjectrole_326M', 'last_familystate_447L', 'min_subjectrole_43M', 'last_housingtype_772L', 'max_pmtmethod_731M', 'last_periodicityofpmts_997M', 'mode_subjectrole_326M', 'min_isbidproduct_390L', 'max_contracttype_653M', 'last_education_927M', 'first_periodicityofpmts_997M', 'max_periodicityofpmts_997M', 'first_classificationofcontr_1114M', 'min_housingtype_772L', 'max_purposeofcred_722M', 'max_contaddr_matchlist_1032L', 'mode_subjectrole_43M', 'min_num_group1', 'max_subjectrole_43M', 'max_housingtype_772L', 'first_num_group1', 'max_rejectreasonclient_4145042M', 'max_classificationofcontr_1114M', 'mastercontrexist_109L', 'first_contracttype_653M', 'min_persontype_792L', 'min_persontype_1072L', 'min_personindex_1023L', 'min_num_group1_8', 'min_contaddr_matchlist_1032L', 'max_empladdr_zipcode_114M', 'max_empladdr_district_926M', 'max_education_927M', 'last_empladdr_zipcode_114M', 'last_empladdr_district_926M', 'last_empl_industry_691L', 'first_subjectrole_43M', 'first_subjectrole_326M', 'first_purposeofcred_722M', 'first_persontype_792L', 'first_persontype_1072L']\n"
     ]
    }
   ],
   "source": [
    "print([name for value, name in reversed(sorted(zip(model.get_feature_importance(), features)))][0:200])"
   ]
  },
  {
   "cell_type": "code",
   "execution_count": null,
   "id": "a66c7b5c",
   "metadata": {
    "papermill": {
     "duration": 0.020848,
     "end_time": "2024-02-26T07:55:07.919113",
     "exception": false,
     "start_time": "2024-02-26T07:55:07.898265",
     "status": "completed"
    },
    "tags": []
   },
   "outputs": [],
   "source": []
  },
  {
   "cell_type": "code",
   "execution_count": 29,
   "id": "5043edf6",
   "metadata": {
    "execution": {
     "iopub.execute_input": "2024-02-26T07:55:07.963416Z",
     "iopub.status.busy": "2024-02-26T07:55:07.962937Z",
     "iopub.status.idle": "2024-02-26T07:55:07.966586Z",
     "shell.execute_reply": "2024-02-26T07:55:07.965820Z"
    },
    "papermill": {
     "duration": 0.028268,
     "end_time": "2024-02-26T07:55:07.968413",
     "exception": false,
     "start_time": "2024-02-26T07:55:07.940145",
     "status": "completed"
    },
    "tags": []
   },
   "outputs": [],
   "source": [
    "# CV roc_auc_oof:  0.8353789451006361 without feature selection ~500 features\n",
    "# CV roc_auc_oof:  0.8329322959533371 with feature selection ~200 features"
   ]
  },
  {
   "cell_type": "code",
   "execution_count": null,
   "id": "76d7ab0e",
   "metadata": {
    "papermill": {
     "duration": 0.020704,
     "end_time": "2024-02-26T07:55:08.010090",
     "exception": false,
     "start_time": "2024-02-26T07:55:07.989386",
     "status": "completed"
    },
    "tags": []
   },
   "outputs": [],
   "source": []
  },
  {
   "cell_type": "code",
   "execution_count": 30,
   "id": "c20757cd",
   "metadata": {
    "execution": {
     "iopub.execute_input": "2024-02-26T07:55:08.053725Z",
     "iopub.status.busy": "2024-02-26T07:55:08.052853Z",
     "iopub.status.idle": "2024-02-26T07:55:08.059672Z",
     "shell.execute_reply": "2024-02-26T07:55:08.058944Z"
    },
    "papermill": {
     "duration": 0.030378,
     "end_time": "2024-02-26T07:55:08.061488",
     "exception": false,
     "start_time": "2024-02-26T07:55:08.031110",
     "status": "completed"
    },
    "tags": []
   },
   "outputs": [],
   "source": [
    "def gini_stability(dataset, w_fallingrate=88.0, w_resstd=-0.5):\n",
    "    gini_in_time = dataset\\\n",
    "        .sort_values(\"WEEK_NUM\")\\\n",
    "        .groupby(\"WEEK_NUM\")[[\"true\", \"predicted\"]]\\\n",
    "        .apply(lambda x: 2 * roc_auc_score(x[\"true\"], x[\"predicted\"]) - 1).tolist()\n",
    "    \n",
    "    x = np.arange(len(gini_in_time))\n",
    "    y = gini_in_time\n",
    "    a, b = np.polyfit(x, y, 1)\n",
    "    y_hat = a * x + b\n",
    "    residuals = y - y_hat\n",
    "    res_std = np.std(residuals)\n",
    "    avg_gini = np.mean(gini_in_time)\n",
    "    \n",
    "    print(avg_gini, min(0, a), res_std)\n",
    "    \n",
    "    return avg_gini + w_fallingrate * min(0, a) + w_resstd * res_std"
   ]
  },
  {
   "cell_type": "code",
   "execution_count": 31,
   "id": "5ffdaf62",
   "metadata": {
    "execution": {
     "iopub.execute_input": "2024-02-26T07:55:08.106459Z",
     "iopub.status.busy": "2024-02-26T07:55:08.106154Z",
     "iopub.status.idle": "2024-02-26T07:55:08.318935Z",
     "shell.execute_reply": "2024-02-26T07:55:08.318191Z"
    },
    "papermill": {
     "duration": 0.237217,
     "end_time": "2024-02-26T07:55:08.321155",
     "exception": false,
     "start_time": "2024-02-26T07:55:08.083938",
     "status": "completed"
    },
    "tags": []
   },
   "outputs": [],
   "source": [
    "# Y_train_predicted = model.predict_proba(train_df[features].to_pandas())\n",
    "Y_test_predicted = model.predict_proba(test_df[features].to_pandas())"
   ]
  },
  {
   "cell_type": "code",
   "execution_count": 32,
   "id": "1b496520",
   "metadata": {
    "execution": {
     "iopub.execute_input": "2024-02-26T07:55:08.367027Z",
     "iopub.status.busy": "2024-02-26T07:55:08.366721Z",
     "iopub.status.idle": "2024-02-26T07:55:08.370757Z",
     "shell.execute_reply": "2024-02-26T07:55:08.369950Z"
    },
    "papermill": {
     "duration": 0.027892,
     "end_time": "2024-02-26T07:55:08.372621",
     "exception": false,
     "start_time": "2024-02-26T07:55:08.344729",
     "status": "completed"
    },
    "tags": []
   },
   "outputs": [],
   "source": [
    "# result = pd.DataFrame({\n",
    "#     \"WEEK_NUM\": train_df[\"WEEK_NUM\"],\n",
    "#     \"true\": train_df[\"target\"],\n",
    "#     \"predicted\": Y_train_predicted[:, 1],\n",
    "# })\n",
    "\n",
    "# train_result = gini_stability(result)\n",
    "# print(\"train_score: {}\".format(train_result))\n",
    "\n",
    "# if MODE == Mode.Train:\n",
    "#     result = pd.DataFrame({\n",
    "#         \"WEEK_NUM\": test_df[\"WEEK_NUM\"],\n",
    "#         \"true\": test_df[\"target\"],\n",
    "#         \"predicted\": Y_test_predicted[:, 1],\n",
    "#     })\n",
    "\n",
    "#     test_result = gini_stability(result)\n",
    "#     print(\"test_score: {}\".format(test_result))"
   ]
  },
  {
   "cell_type": "code",
   "execution_count": 33,
   "id": "3f891fae",
   "metadata": {
    "execution": {
     "iopub.execute_input": "2024-02-26T07:55:08.415860Z",
     "iopub.status.busy": "2024-02-26T07:55:08.415598Z",
     "iopub.status.idle": "2024-02-26T07:55:08.419297Z",
     "shell.execute_reply": "2024-02-26T07:55:08.418537Z"
    },
    "papermill": {
     "duration": 0.027447,
     "end_time": "2024-02-26T07:55:08.421158",
     "exception": false,
     "start_time": "2024-02-26T07:55:08.393711",
     "status": "completed"
    },
    "tags": []
   },
   "outputs": [],
   "source": [
    "# Version 1, test_score: 0.583319926590042, public score 0.48\n",
    "# 100 iters\n",
    "\n",
    "# Version 2, test_score: 0.6062624701357268, public score 0.517\n",
    "# 300 iters\n",
    "\n",
    "# Version 3, test_score: ?, public score 0.545\n",
    "# 2000 iters\n",
    "\n",
    "# Version 4, test_score: ?, public score ?\n",
    "# ? iters, Improve aggregate functions for depth_1, depth_2\n"
   ]
  },
  {
   "cell_type": "markdown",
   "id": "307c2e9c",
   "metadata": {
    "papermill": {
     "duration": 0.020867,
     "end_time": "2024-02-26T07:55:08.462986",
     "exception": false,
     "start_time": "2024-02-26T07:55:08.442119",
     "status": "completed"
    },
    "tags": []
   },
   "source": [
    "# Submition"
   ]
  },
  {
   "cell_type": "code",
   "execution_count": 34,
   "id": "81fa37d5",
   "metadata": {
    "execution": {
     "iopub.execute_input": "2024-02-26T07:55:08.505890Z",
     "iopub.status.busy": "2024-02-26T07:55:08.505645Z",
     "iopub.status.idle": "2024-02-26T07:55:08.717319Z",
     "shell.execute_reply": "2024-02-26T07:55:08.716517Z"
    },
    "papermill": {
     "duration": 0.235408,
     "end_time": "2024-02-26T07:55:08.719407",
     "exception": false,
     "start_time": "2024-02-26T07:55:08.483999",
     "status": "completed"
    },
    "tags": []
   },
   "outputs": [],
   "source": [
    "case_id = test_df[\"case_id\"]\n",
    "X = test_df[features].to_pandas()\n",
    "\n",
    "Y = model.predict_proba(X)\n",
    "\n",
    "submission = pd.DataFrame({\n",
    "    \"case_id\": case_id.to_numpy(),\n",
    "    \"score\": Y[:, 1]\n",
    "}).set_index('case_id')\n",
    "submission.to_csv(\"./submission.csv\")"
   ]
  },
  {
   "cell_type": "code",
   "execution_count": null,
   "id": "1665027c",
   "metadata": {
    "papermill": {
     "duration": 0.020885,
     "end_time": "2024-02-26T07:55:08.762844",
     "exception": false,
     "start_time": "2024-02-26T07:55:08.741959",
     "status": "completed"
    },
    "tags": []
   },
   "outputs": [],
   "source": []
  },
  {
   "cell_type": "code",
   "execution_count": null,
   "id": "ab1320d2",
   "metadata": {
    "papermill": {
     "duration": 0.020708,
     "end_time": "2024-02-26T07:55:08.804518",
     "exception": false,
     "start_time": "2024-02-26T07:55:08.783810",
     "status": "completed"
    },
    "tags": []
   },
   "outputs": [],
   "source": []
  },
  {
   "cell_type": "code",
   "execution_count": null,
   "id": "ef0b415e",
   "metadata": {
    "papermill": {
     "duration": 0.020799,
     "end_time": "2024-02-26T07:55:08.846316",
     "exception": false,
     "start_time": "2024-02-26T07:55:08.825517",
     "status": "completed"
    },
    "tags": []
   },
   "outputs": [],
   "source": []
  }
 ],
 "metadata": {
  "kaggle": {
   "accelerator": "gpu",
   "dataSources": [
    {
     "databundleVersionId": 7602123,
     "sourceId": 50160,
     "sourceType": "competition"
    }
   ],
   "dockerImageVersionId": 30635,
   "isGpuEnabled": true,
   "isInternetEnabled": true,
   "language": "python",
   "sourceType": "notebook"
  },
  "kernelspec": {
   "display_name": "Python 3",
   "language": "python",
   "name": "python3"
  },
  "language_info": {
   "codemirror_mode": {
    "name": "ipython",
    "version": 3
   },
   "file_extension": ".py",
   "mimetype": "text/x-python",
   "name": "python",
   "nbconvert_exporter": "python",
   "pygments_lexer": "ipython3",
   "version": "3.10.12"
  },
  "papermill": {
   "default_parameters": {},
   "duration": 736.002797,
   "end_time": "2024-02-26T07:55:10.291883",
   "environment_variables": {},
   "exception": null,
   "input_path": "__notebook__.ipynb",
   "output_path": "__notebook__.ipynb",
   "parameters": {},
   "start_time": "2024-02-26T07:42:54.289086",
   "version": "2.4.0"
  }
 },
 "nbformat": 4,
 "nbformat_minor": 5
}
